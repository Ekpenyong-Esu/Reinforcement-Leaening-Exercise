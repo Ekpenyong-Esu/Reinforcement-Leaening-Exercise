{
  "nbformat": 4,
  "nbformat_minor": 0,
  "metadata": {
    "colab": {
      "provenance": [],
      "authorship_tag": "ABX9TyOH6vNhRsslt/OSPdHwSeVz"
    },
    "kernelspec": {
      "name": "python3",
      "display_name": "Python 3"
    },
    "language_info": {
      "name": "python"
    },
    "accelerator": "GPU",
    "gpuClass": "standard"
  },
  "cells": [
    {
      "cell_type": "code",
      "source": [
        "# Importing libraries\n",
        "\n",
        "import tensorflow as tf\n",
        "from tensorflow.keras import datasets, layers, models, optimizers\n",
        "\n"
      ],
      "metadata": {
        "id": "6OMuIdIjjQKW"
      },
      "execution_count": 77,
      "outputs": []
    },
    {
      "cell_type": "code",
      "source": [
        "#define the convnet \n",
        "class LeNet:\n",
        "\t@staticmethod                                # The static means the method is not for the class instance but for the class itself\n",
        "\tdef build(input_shape, classes):\n",
        "\t\tmodel = models.Sequential()\n",
        "\t\t# CONV => RELU => POOL\n",
        "\t\tmodel.add(layers.Convolution2D(20, (5, 5), activation='relu',\t\t#This has 20 convul output with (5,5) output\n",
        "\t\t\tinput_shape=input_shape))\n",
        "\t\tmodel.add(layers.MaxPooling2D(pool_size=(2, 2), strides=(2, 2))) #The maxpool has a size of (2,2) using a stride of (2,2) sliding through the frame\n",
        "\t\t# CONV => RELU => POOL\n",
        "\t\tmodel.add(layers.Convolution2D(50, (5, 5), activation='relu'))\t\t# Another convul network with output size of 50 and filter of (5,5)\n",
        "\t\tmodel.add(layers.MaxPooling2D(pool_size=(2, 2), strides=(2, 2)))  # Another maxpool layer with pool size of (2,2) and stride of (2,2)\n",
        "\t\t# Flatten => RELU layers\n",
        "\t\tmodel.add(layers.Flatten())\t\t\t\t\t\t\t\t\t\t\t\t\t\t\t\t\t\t\t\t#This flatten the input to one overal neuron \n",
        "\t\tmodel.add(layers.Dense(500, activation='relu'))\t\t\t\t\t\t\t\t\t\t#This dense layer has an output os 50 neuron\n",
        "\t\t# a softmax classifier\n",
        "\t\tmodel.add(layers.Dense(classes, activation=\"softmax\"))\t\t\t\t\t\t# The last layer divide the output into 10 classes\n",
        "\t\treturn model\n",
        "\n"
      ],
      "metadata": {
        "id": "MZVsX6pclOmG"
      },
      "execution_count": 78,
      "outputs": []
    },
    {
      "cell_type": "code",
      "source": [
        "# network and training\n",
        "EPOCHS = 20\n",
        "BATCH_SIZE = 128\n",
        "VERBOSE = 1\n",
        "OPTIMIZER = tf.keras.optimizers.Adam()\n",
        "VALIDATION_SPLIT=0.90\n",
        "\n",
        "IMG_ROWS, IMG_COLS = 28, 28 # input image dimensions\n",
        "INPUT_SHAPE = (IMG_ROWS, IMG_COLS, 1)\n",
        "NB_CLASSES = 10  # number of outputs = number of digits"
      ],
      "metadata": {
        "id": "PgfGnQarpx7x"
      },
      "execution_count": 79,
      "outputs": []
    },
    {
      "cell_type": "code",
      "source": [
        "# data: shuffled and split between train and test sets\n",
        "(X_train, y_train), (X_test, y_test) = datasets.mnist.load_data()\n"
      ],
      "metadata": {
        "id": "MKPRnG8wp2qG"
      },
      "execution_count": 80,
      "outputs": []
    },
    {
      "cell_type": "code",
      "source": [
        "# reshape\n",
        "X_train = X_train.reshape((60000, 28, 28, 1))\n",
        "X_test = X_test.reshape((10000, 28, 28, 1))"
      ],
      "metadata": {
        "id": "ZEQT-d4gp72O"
      },
      "execution_count": 81,
      "outputs": []
    },
    {
      "cell_type": "code",
      "source": [
        "# normalize\n",
        "X_train, X_test = X_train / 255.0, X_test / 255.0\n"
      ],
      "metadata": {
        "id": "wR-KYwlXp-by"
      },
      "execution_count": 82,
      "outputs": []
    },
    {
      "cell_type": "code",
      "source": [
        "# cast\n",
        "X_train = X_train.astype('float32')\n",
        "X_test = X_test.astype('float32')"
      ],
      "metadata": {
        "id": "DRDOBN-XqBoR"
      },
      "execution_count": 83,
      "outputs": []
    },
    {
      "cell_type": "code",
      "source": [
        "print(X_train.shape[0], 'train samples')\n",
        "print(X_test.shape[0], 'test samples')\n"
      ],
      "metadata": {
        "colab": {
          "base_uri": "https://localhost:8080/"
        },
        "id": "ogaJqJq1qFFc",
        "outputId": "d382d8f8-93b7-44b1-e9ba-b0c1b7129524"
      },
      "execution_count": 84,
      "outputs": [
        {
          "output_type": "stream",
          "name": "stdout",
          "text": [
            "60000 train samples\n",
            "10000 test samples\n"
          ]
        }
      ]
    },
    {
      "cell_type": "code",
      "source": [
        "# convert class vectors to binary class matrices\n",
        "y_train = tf.keras.utils.to_categorical(y_train, NB_CLASSES)\n",
        "y_test = tf.keras.utils.to_categorical(y_test, NB_CLASSES)\n"
      ],
      "metadata": {
        "id": "PLy8TMeiqHuj"
      },
      "execution_count": 85,
      "outputs": []
    },
    {
      "cell_type": "code",
      "source": [
        "# initialize the optimizer and model\n",
        "model = LeNet.build(input_shape=INPUT_SHAPE, classes=NB_CLASSES)   # Remember that the staticmethod can only be called with the class not creating instance for the class LeNet but using the method directly with the class\n",
        "model.compile(loss=\"categorical_crossentropy\", optimizer=OPTIMIZER,\n",
        "\tmetrics=[\"accuracy\"])\n",
        "model.summary()\n"
      ],
      "metadata": {
        "colab": {
          "base_uri": "https://localhost:8080/"
        },
        "id": "kpGgcilXqKxl",
        "outputId": "070140b8-ee5e-42d3-fcb9-fa15e39dcfd0"
      },
      "execution_count": 86,
      "outputs": [
        {
          "output_type": "stream",
          "name": "stdout",
          "text": [
            "Model: \"sequential_5\"\n",
            "_________________________________________________________________\n",
            " Layer (type)                Output Shape              Param #   \n",
            "=================================================================\n",
            " conv2d_10 (Conv2D)          (None, 24, 24, 20)        520       \n",
            "                                                                 \n",
            " max_pooling2d_10 (MaxPoolin  (None, 12, 12, 20)       0         \n",
            " g2D)                                                            \n",
            "                                                                 \n",
            " conv2d_11 (Conv2D)          (None, 8, 8, 50)          25050     \n",
            "                                                                 \n",
            " max_pooling2d_11 (MaxPoolin  (None, 4, 4, 50)         0         \n",
            " g2D)                                                            \n",
            "                                                                 \n",
            " flatten_5 (Flatten)         (None, 800)               0         \n",
            "                                                                 \n",
            " dense_10 (Dense)            (None, 500)               400500    \n",
            "                                                                 \n",
            " dense_11 (Dense)            (None, 10)                5010      \n",
            "                                                                 \n",
            "=================================================================\n",
            "Total params: 431,080\n",
            "Trainable params: 431,080\n",
            "Non-trainable params: 0\n",
            "_________________________________________________________________\n"
          ]
        }
      ]
    },
    {
      "cell_type": "code",
      "source": [
        "# use TensorBoard, princess Aurora!\n",
        "callbacks = [\n",
        "  # Write TensorBoard logs to `./logs` directory\n",
        "  tf.keras.callbacks.TensorBoard(log_dir='./logs')\n",
        "]"
      ],
      "metadata": {
        "id": "ufxRlV5gq7Vu"
      },
      "execution_count": 87,
      "outputs": []
    },
    {
      "cell_type": "code",
      "source": [
        "# fit \n",
        "history = model.fit(X_train, y_train, \n",
        "\t\tbatch_size=BATCH_SIZE, epochs=EPOCHS, \n",
        "\t\tverbose=VERBOSE, validation_split=VALIDATION_SPLIT,\n",
        "\t\tcallbacks=callbacks)\n",
        "\n",
        "score = model.evaluate(X_test, y_test, verbose=VERBOSE)\n",
        "print(\"\\nTest score:\", score[0])\n",
        "print('Test accuracy:', score[1])\n"
      ],
      "metadata": {
        "colab": {
          "base_uri": "https://localhost:8080/"
        },
        "id": "2qkqrDw7q_Rk",
        "outputId": "3c7b30aa-154a-4d26-c699-7b924f0e1e92"
      },
      "execution_count": 88,
      "outputs": [
        {
          "output_type": "stream",
          "name": "stdout",
          "text": [
            "Epoch 1/20\n",
            "47/47 [==============================] - 2s 35ms/step - loss: 0.8434 - accuracy: 0.7470 - val_loss: 0.2997 - val_accuracy: 0.9099\n",
            "Epoch 2/20\n",
            "47/47 [==============================] - 1s 30ms/step - loss: 0.2149 - accuracy: 0.9373 - val_loss: 0.1792 - val_accuracy: 0.9471\n",
            "Epoch 3/20\n",
            "47/47 [==============================] - 1s 32ms/step - loss: 0.1314 - accuracy: 0.9630 - val_loss: 0.1530 - val_accuracy: 0.9535\n",
            "Epoch 4/20\n",
            "47/47 [==============================] - 1s 32ms/step - loss: 0.0977 - accuracy: 0.9712 - val_loss: 0.1241 - val_accuracy: 0.9603\n",
            "Epoch 5/20\n",
            "47/47 [==============================] - 1s 29ms/step - loss: 0.0754 - accuracy: 0.9772 - val_loss: 0.1019 - val_accuracy: 0.9688\n",
            "Epoch 6/20\n",
            "47/47 [==============================] - 1s 30ms/step - loss: 0.0540 - accuracy: 0.9828 - val_loss: 0.1229 - val_accuracy: 0.9601\n",
            "Epoch 7/20\n",
            "47/47 [==============================] - 1s 30ms/step - loss: 0.0454 - accuracy: 0.9887 - val_loss: 0.0910 - val_accuracy: 0.9725\n",
            "Epoch 8/20\n",
            "47/47 [==============================] - 1s 32ms/step - loss: 0.0285 - accuracy: 0.9927 - val_loss: 0.0913 - val_accuracy: 0.9720\n",
            "Epoch 9/20\n",
            "47/47 [==============================] - 1s 32ms/step - loss: 0.0268 - accuracy: 0.9925 - val_loss: 0.0895 - val_accuracy: 0.9731\n",
            "Epoch 10/20\n",
            "47/47 [==============================] - 1s 29ms/step - loss: 0.0190 - accuracy: 0.9950 - val_loss: 0.0905 - val_accuracy: 0.9737\n",
            "Epoch 11/20\n",
            "47/47 [==============================] - 1s 32ms/step - loss: 0.0147 - accuracy: 0.9963 - val_loss: 0.0998 - val_accuracy: 0.9699\n",
            "Epoch 12/20\n",
            "47/47 [==============================] - 2s 33ms/step - loss: 0.0088 - accuracy: 0.9985 - val_loss: 0.0845 - val_accuracy: 0.9760\n",
            "Epoch 13/20\n",
            "47/47 [==============================] - 1s 29ms/step - loss: 0.0073 - accuracy: 0.9980 - val_loss: 0.0888 - val_accuracy: 0.9760\n",
            "Epoch 14/20\n",
            "47/47 [==============================] - 1s 29ms/step - loss: 0.0047 - accuracy: 0.9995 - val_loss: 0.1009 - val_accuracy: 0.9732\n",
            "Epoch 15/20\n",
            "47/47 [==============================] - 1s 30ms/step - loss: 0.0037 - accuracy: 0.9997 - val_loss: 0.0979 - val_accuracy: 0.9745\n",
            "Epoch 16/20\n",
            "47/47 [==============================] - 2s 33ms/step - loss: 0.0032 - accuracy: 0.9995 - val_loss: 0.1012 - val_accuracy: 0.9746\n",
            "Epoch 17/20\n",
            "47/47 [==============================] - 2s 33ms/step - loss: 0.0020 - accuracy: 1.0000 - val_loss: 0.0980 - val_accuracy: 0.9760\n",
            "Epoch 18/20\n",
            "47/47 [==============================] - 1s 29ms/step - loss: 0.0020 - accuracy: 0.9998 - val_loss: 0.0926 - val_accuracy: 0.9766\n",
            "Epoch 19/20\n",
            "47/47 [==============================] - 1s 32ms/step - loss: 0.0011 - accuracy: 1.0000 - val_loss: 0.0935 - val_accuracy: 0.9770\n",
            "Epoch 20/20\n",
            "47/47 [==============================] - 1s 29ms/step - loss: 6.9409e-04 - accuracy: 1.0000 - val_loss: 0.0950 - val_accuracy: 0.9774\n",
            "313/313 [==============================] - 1s 3ms/step - loss: 0.0667 - accuracy: 0.9822\n",
            "\n",
            "Test score: 0.06666705757379532\n",
            "Test accuracy: 0.982200026512146\n"
          ]
        }
      ]
    },
    {
      "cell_type": "code",
      "source": [
        "import matplotlib.pyplot as plt\n",
        "plt.plot(history.history['loss'], label='loss')\n",
        "plt.plot(history.history['val_loss'], label='val_loss')\n",
        "plt.xlabel('Epoch')\n",
        "plt.ylabel('Loss')\n",
        "plt.legend()\n",
        "plt.grid(True)"
      ],
      "metadata": {
        "colab": {
          "base_uri": "https://localhost:8080/",
          "height": 279
        },
        "id": "RxghGrOerdiD",
        "outputId": "8d7b9d78-bfa1-4433-f850-73e27c16f3bc"
      },
      "execution_count": 89,
      "outputs": [
        {
          "output_type": "display_data",
          "data": {
            "text/plain": [
              "<Figure size 432x288 with 1 Axes>"
            ],
            "image/png": "[encoded data removed]"
          },
          "metadata": {
            "needs_background": "light"
          }
        }
      ]
    },
    {
      "cell_type": "code",
      "source": [],
      "metadata": {
        "id": "RKDckNmdsVxq"
      },
      "execution_count": 89,
      "outputs": []
    }
  ]
}