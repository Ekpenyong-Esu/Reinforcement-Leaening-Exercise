{
  "nbformat": 4,
  "nbformat_minor": 0,
  "metadata": {
    "colab": {
      "provenance": [],
      "authorship_tag": "ABX9TyNxKluo348GnC9oxjIt/ex1",
      "include_colab_link": true
    },
    "kernelspec": {
      "name": "python3",
      "display_name": "Python 3"
    },
    "language_info": {
      "name": "python"
    },
    "accelerator": "GPU",
    "gpuClass": "standard"
  },
  "cells": [
    {
      "cell_type": "markdown",
      "metadata": {
        "id": "view-in-github",
        "colab_type": "text"
      },
      "source": [
        "<a href=\"https://colab.research.google.com/github/Ekpenyong-Esu/Reinforcement-Leaening-Exercise/blob/main/01RL.ipynb\" target=\"_parent\"><img src=\"https://colab.research.google.com/assets/colab-badge.svg\" alt=\"Open In Colab\"/></a>"
      ]
    },
    {
      "cell_type": "code",
      "source": [
        "import tensorflow as tf          # import tensorflow\n",
        "import numpy as np                # import numpy\n",
        "from tensorflow import keras       #import keras\n"
      ],
      "metadata": {
        "id": "Jq76s5WqHu0P"
      },
      "execution_count": 61,
      "outputs": []
    },
    {
      "cell_type": "code",
      "source": [
        "# for reproducibility\n",
        "np.random.seed(1671)\n",
        "\n",
        "# network and training\n",
        "EPOCHS = 200        # how many time to run the model\n",
        "BATCH_SIZE = 128    # number of item fed to the network at a single EPOCH\n",
        "VERBOSE = 1         # Means not too much details\n",
        "NB_CLASSES = 10   # number of outputs = number of digits\n",
        "N_HIDDEN = 128        # Number of output or neuron\n",
        "VALIDATION_SPLIT=0.2 # how much TRAIN is reserved for VALIDATION"
      ],
      "metadata": {
        "id": "4kVliv7jGy-S"
      },
      "execution_count": 62,
      "outputs": []
    },
    {
      "cell_type": "code",
      "source": [
        "# loading MNIST dataset\n",
        "# verify\n",
        "# the split between train and test is 60,000, and 10,000 respectly \n",
        "# one-hot is automatically applied\n",
        "mnist = keras.datasets.mnist              # How to load the mnist Datasets\n",
        "(X_train, Y_train), (X_test, Y_test) = mnist.load_data() # split to X_test and Y_train \n",
        "print(X_train.shape[0], 'train samples') # X_train = 60,000 sample\n",
        "print(X_test.shape[0], 'test samples')    #Y_train = 10,000 "
      ],
      "metadata": {
        "colab": {
          "base_uri": "https://localhost:8080/"
        },
        "id": "fMenZ6RRH5iC",
        "outputId": "2ae0b27a-3c4b-43ec-d5ef-1d1bedad09db"
      },
      "execution_count": 63,
      "outputs": [
        {
          "output_type": "stream",
          "name": "stdout",
          "text": [
            "60000 train samples\n",
            "10000 test samples\n"
          ]
        }
      ]
    },
    {
      "cell_type": "code",
      "source": [
        "single_image = X_train[0]\n",
        "single_image.shape"
      ],
      "metadata": {
        "colab": {
          "base_uri": "https://localhost:8080/"
        },
        "id": "QjnWlzyHNh3R",
        "outputId": "f1207d02-3306-41d4-ecda-d695a1923975"
      },
      "execution_count": 64,
      "outputs": [
        {
          "output_type": "execute_result",
          "data": {
            "text/plain": [
              "(28, 28)"
            ]
          },
          "metadata": {},
          "execution_count": 64
        }
      ]
    },
    {
      "cell_type": "code",
      "source": [
        "import pandas as pd\n",
        "import matplotlib.pyplot as plt\n",
        "\n",
        "plt.figure(dpi=150)\n",
        "plt.imshow(single_image)"
      ],
      "metadata": {
        "colab": {
          "base_uri": "https://localhost:8080/",
          "height": 551
        },
        "id": "TX3PK_4BOgls",
        "outputId": "28f70224-8fe6-42b1-9270-285e414ea7ec"
      },
      "execution_count": 65,
      "outputs": [
        {
          "output_type": "execute_result",
          "data": {
            "text/plain": [
              "<matplotlib.image.AxesImage at 0x7f2432623550>"
            ]
          },
          "metadata": {},
          "execution_count": 65
        },
        {
          "output_type": "display_data",
          "data": {
            "text/plain": [
              "<Figure size 900x600 with 1 Axes>"
            ],
            "image/png": "[encoded data removed]"
          },
          "metadata": {
            "needs_background": "light"
          }
        }
      ]
    },
    {
      "cell_type": "code",
      "source": [
        "#it is an image With RGb value of 0 to 255. Hence we normalize by dividing it by 255\n",
        "X_train, X_test = X_train / 255.0, X_test / 255.0"
      ],
      "metadata": {
        "id": "CXuA0LHgIDZM"
      },
      "execution_count": 66,
      "outputs": []
    },
    {
      "cell_type": "code",
      "source": [
        "from tensorflow.keras.utils import to_categorical\n"
      ],
      "metadata": {
        "id": "Yj0aWcvPW6zJ"
      },
      "execution_count": 67,
      "outputs": []
    },
    {
      "cell_type": "code",
      "source": [
        "#X_train is 60000 rows of 28x28 values --> reshaped in 60000 x 784\n",
        "RESHAPED = 784\n",
        "X_train = X_train.reshape(60000, RESHAPED)\n",
        "X_test = X_test.reshape(10000, RESHAPED)\n",
        "Y_train = to_categorical(Y_train).astype('float32')\n",
        "Y_test = to_categorical(Y_test).astype('float32')\n",
        "\n",
        "\n"
      ],
      "metadata": {
        "id": "_8YCqUGfIMoD"
      },
      "execution_count": 68,
      "outputs": []
    },
    {
      "cell_type": "code",
      "source": [
        "model = tf.keras.models.Sequential()\n",
        "model.add(keras.layers.Dense(NB_CLASSES,\n",
        "   \t\tinput_shape=(RESHAPED,),\n",
        "   \t\tname='dense_layer', activation='softmax'))"
      ],
      "metadata": {
        "id": "lbg7WO7eIdvK"
      },
      "execution_count": 69,
      "outputs": []
    },
    {
      "cell_type": "code",
      "source": [
        "# summary of the model\n",
        "model.summary()"
      ],
      "metadata": {
        "colab": {
          "base_uri": "https://localhost:8080/"
        },
        "id": "geoJh5IkIijv",
        "outputId": "407504cc-ed80-4f2a-f756-be282d9bf962"
      },
      "execution_count": 70,
      "outputs": [
        {
          "output_type": "stream",
          "name": "stdout",
          "text": [
            "Model: \"sequential_7\"\n",
            "_________________________________________________________________\n",
            " Layer (type)                Output Shape              Param #   \n",
            "=================================================================\n",
            " dense_layer (Dense)         (None, 10)                7850      \n",
            "                                                                 \n",
            "=================================================================\n",
            "Total params: 7,850\n",
            "Trainable params: 7,850\n",
            "Non-trainable params: 0\n",
            "_________________________________________________________________\n"
          ]
        }
      ]
    },
    {
      "cell_type": "code",
      "source": [
        "# compiling the model\n",
        "model.compile(optimizer='SGD', \n",
        "              loss='categorical_crossentropy',\n",
        "              metrics=['accuracy'])"
      ],
      "metadata": {
        "id": "YOqRwN-cIpa1"
      },
      "execution_count": 71,
      "outputs": []
    },
    {
      "cell_type": "code",
      "source": [
        "#training the moodel\n",
        "model.fit(X_train, Y_train,\n",
        "\t\tbatch_size=BATCH_SIZE, epochs=EPOCHS,\n",
        "\t\tverbose=VERBOSE, validation_split=VALIDATION_SPLIT) # note that percentage of the data is kept for vallidation and\n",
        "                                                        # is called validation split"
      ],
      "metadata": {
        "colab": {
          "base_uri": "https://localhost:8080/"
        },
        "id": "vr-_h7CxIvQo",
        "outputId": "42713565-28b0-44f4-a47e-2275dc4413fc"
      },
      "execution_count": 72,
      "outputs": [
        {
          "output_type": "stream",
          "name": "stdout",
          "text": [
            "Epoch 1/200\n",
            "375/375 [==============================] - 1s 3ms/step - loss: 1.3725 - accuracy: 0.6606 - val_loss: 0.8929 - val_accuracy: 0.8278\n",
            "Epoch 2/200\n",
            "375/375 [==============================] - 1s 3ms/step - loss: 0.7934 - accuracy: 0.8284 - val_loss: 0.6558 - val_accuracy: 0.8592\n",
            "Epoch 3/200\n",
            "375/375 [==============================] - 1s 3ms/step - loss: 0.6437 - accuracy: 0.8511 - val_loss: 0.5608 - val_accuracy: 0.8703\n",
            "Epoch 4/200\n",
            "375/375 [==============================] - 1s 3ms/step - loss: 0.5712 - accuracy: 0.8623 - val_loss: 0.5078 - val_accuracy: 0.8786\n",
            "Epoch 5/200\n",
            "375/375 [==============================] - 1s 3ms/step - loss: 0.5270 - accuracy: 0.8688 - val_loss: 0.4739 - val_accuracy: 0.8831\n",
            "Epoch 6/200\n",
            "375/375 [==============================] - 1s 3ms/step - loss: 0.4967 - accuracy: 0.8742 - val_loss: 0.4499 - val_accuracy: 0.8878\n",
            "Epoch 7/200\n",
            "375/375 [==============================] - 2s 5ms/step - loss: 0.4742 - accuracy: 0.8786 - val_loss: 0.4319 - val_accuracy: 0.8907\n",
            "Epoch 8/200\n",
            "375/375 [==============================] - 1s 3ms/step - loss: 0.4568 - accuracy: 0.8821 - val_loss: 0.4179 - val_accuracy: 0.8928\n",
            "Epoch 9/200\n",
            "375/375 [==============================] - 1s 3ms/step - loss: 0.4428 - accuracy: 0.8842 - val_loss: 0.4062 - val_accuracy: 0.8953\n",
            "Epoch 10/200\n",
            "375/375 [==============================] - 1s 3ms/step - loss: 0.4312 - accuracy: 0.8861 - val_loss: 0.3967 - val_accuracy: 0.8972\n",
            "Epoch 11/200\n",
            "375/375 [==============================] - 1s 3ms/step - loss: 0.4213 - accuracy: 0.8881 - val_loss: 0.3888 - val_accuracy: 0.8982\n",
            "Epoch 12/200\n",
            "375/375 [==============================] - 1s 3ms/step - loss: 0.4130 - accuracy: 0.8902 - val_loss: 0.3818 - val_accuracy: 0.8996\n",
            "Epoch 13/200\n",
            "375/375 [==============================] - 1s 3ms/step - loss: 0.4056 - accuracy: 0.8917 - val_loss: 0.3757 - val_accuracy: 0.9002\n",
            "Epoch 14/200\n",
            "375/375 [==============================] - 1s 3ms/step - loss: 0.3991 - accuracy: 0.8927 - val_loss: 0.3703 - val_accuracy: 0.9011\n",
            "Epoch 15/200\n",
            "375/375 [==============================] - 1s 3ms/step - loss: 0.3933 - accuracy: 0.8939 - val_loss: 0.3656 - val_accuracy: 0.9018\n",
            "Epoch 16/200\n",
            "375/375 [==============================] - 1s 3ms/step - loss: 0.3881 - accuracy: 0.8951 - val_loss: 0.3613 - val_accuracy: 0.9032\n",
            "Epoch 17/200\n",
            "375/375 [==============================] - 1s 3ms/step - loss: 0.3834 - accuracy: 0.8962 - val_loss: 0.3576 - val_accuracy: 0.9036\n",
            "Epoch 18/200\n",
            "375/375 [==============================] - 1s 3ms/step - loss: 0.3791 - accuracy: 0.8973 - val_loss: 0.3541 - val_accuracy: 0.9040\n",
            "Epoch 19/200\n",
            "375/375 [==============================] - 1s 3ms/step - loss: 0.3753 - accuracy: 0.8973 - val_loss: 0.3507 - val_accuracy: 0.9050\n",
            "Epoch 20/200\n",
            "375/375 [==============================] - 1s 3ms/step - loss: 0.3716 - accuracy: 0.8985 - val_loss: 0.3478 - val_accuracy: 0.9058\n",
            "Epoch 21/200\n",
            "375/375 [==============================] - 1s 3ms/step - loss: 0.3683 - accuracy: 0.8990 - val_loss: 0.3450 - val_accuracy: 0.9072\n",
            "Epoch 22/200\n",
            "375/375 [==============================] - 1s 3ms/step - loss: 0.3652 - accuracy: 0.8997 - val_loss: 0.3425 - val_accuracy: 0.9069\n",
            "Epoch 23/200\n",
            "375/375 [==============================] - 1s 3ms/step - loss: 0.3623 - accuracy: 0.9002 - val_loss: 0.3401 - val_accuracy: 0.9074\n",
            "Epoch 24/200\n",
            "375/375 [==============================] - 1s 3ms/step - loss: 0.3596 - accuracy: 0.9003 - val_loss: 0.3380 - val_accuracy: 0.9078\n",
            "Epoch 25/200\n",
            "375/375 [==============================] - 1s 3ms/step - loss: 0.3571 - accuracy: 0.9011 - val_loss: 0.3359 - val_accuracy: 0.9084\n",
            "Epoch 26/200\n",
            "375/375 [==============================] - 1s 3ms/step - loss: 0.3547 - accuracy: 0.9018 - val_loss: 0.3339 - val_accuracy: 0.9087\n",
            "Epoch 27/200\n",
            "375/375 [==============================] - 1s 3ms/step - loss: 0.3524 - accuracy: 0.9022 - val_loss: 0.3321 - val_accuracy: 0.9091\n",
            "Epoch 28/200\n",
            "375/375 [==============================] - 1s 3ms/step - loss: 0.3503 - accuracy: 0.9028 - val_loss: 0.3305 - val_accuracy: 0.9091\n",
            "Epoch 29/200\n",
            "375/375 [==============================] - 1s 3ms/step - loss: 0.3483 - accuracy: 0.9031 - val_loss: 0.3287 - val_accuracy: 0.9091\n",
            "Epoch 30/200\n",
            "375/375 [==============================] - 1s 3ms/step - loss: 0.3464 - accuracy: 0.9038 - val_loss: 0.3272 - val_accuracy: 0.9097\n",
            "Epoch 31/200\n",
            "375/375 [==============================] - 1s 3ms/step - loss: 0.3446 - accuracy: 0.9040 - val_loss: 0.3258 - val_accuracy: 0.9104\n",
            "Epoch 32/200\n",
            "375/375 [==============================] - 1s 3ms/step - loss: 0.3428 - accuracy: 0.9046 - val_loss: 0.3244 - val_accuracy: 0.9101\n",
            "Epoch 33/200\n",
            "375/375 [==============================] - 1s 4ms/step - loss: 0.3412 - accuracy: 0.9049 - val_loss: 0.3230 - val_accuracy: 0.9104\n",
            "Epoch 34/200\n",
            "375/375 [==============================] - 2s 5ms/step - loss: 0.3396 - accuracy: 0.9052 - val_loss: 0.3217 - val_accuracy: 0.9111\n",
            "Epoch 35/200\n",
            "375/375 [==============================] - 1s 3ms/step - loss: 0.3381 - accuracy: 0.9057 - val_loss: 0.3207 - val_accuracy: 0.9111\n",
            "Epoch 36/200\n",
            "375/375 [==============================] - 1s 3ms/step - loss: 0.3367 - accuracy: 0.9060 - val_loss: 0.3195 - val_accuracy: 0.9119\n",
            "Epoch 37/200\n",
            "375/375 [==============================] - 1s 3ms/step - loss: 0.3353 - accuracy: 0.9067 - val_loss: 0.3183 - val_accuracy: 0.9112\n",
            "Epoch 38/200\n",
            "375/375 [==============================] - 1s 3ms/step - loss: 0.3339 - accuracy: 0.9068 - val_loss: 0.3173 - val_accuracy: 0.9121\n",
            "Epoch 39/200\n",
            "375/375 [==============================] - 1s 3ms/step - loss: 0.3327 - accuracy: 0.9071 - val_loss: 0.3163 - val_accuracy: 0.9118\n",
            "Epoch 40/200\n",
            "375/375 [==============================] - 1s 3ms/step - loss: 0.3314 - accuracy: 0.9074 - val_loss: 0.3153 - val_accuracy: 0.9123\n",
            "Epoch 41/200\n",
            "375/375 [==============================] - 1s 3ms/step - loss: 0.3302 - accuracy: 0.9078 - val_loss: 0.3143 - val_accuracy: 0.9128\n",
            "Epoch 42/200\n",
            "375/375 [==============================] - 1s 3ms/step - loss: 0.3291 - accuracy: 0.9082 - val_loss: 0.3134 - val_accuracy: 0.9126\n",
            "Epoch 43/200\n",
            "375/375 [==============================] - 1s 3ms/step - loss: 0.3280 - accuracy: 0.9087 - val_loss: 0.3125 - val_accuracy: 0.9131\n",
            "Epoch 44/200\n",
            "375/375 [==============================] - 1s 3ms/step - loss: 0.3269 - accuracy: 0.9088 - val_loss: 0.3117 - val_accuracy: 0.9128\n",
            "Epoch 45/200\n",
            "375/375 [==============================] - 1s 3ms/step - loss: 0.3259 - accuracy: 0.9092 - val_loss: 0.3109 - val_accuracy: 0.9133\n",
            "Epoch 46/200\n",
            "375/375 [==============================] - 1s 3ms/step - loss: 0.3249 - accuracy: 0.9094 - val_loss: 0.3101 - val_accuracy: 0.9139\n",
            "Epoch 47/200\n",
            "375/375 [==============================] - 1s 3ms/step - loss: 0.3239 - accuracy: 0.9096 - val_loss: 0.3094 - val_accuracy: 0.9143\n",
            "Epoch 48/200\n",
            "375/375 [==============================] - 1s 3ms/step - loss: 0.3230 - accuracy: 0.9102 - val_loss: 0.3087 - val_accuracy: 0.9144\n",
            "Epoch 49/200\n",
            "375/375 [==============================] - 1s 3ms/step - loss: 0.3221 - accuracy: 0.9104 - val_loss: 0.3079 - val_accuracy: 0.9145\n",
            "Epoch 50/200\n",
            "375/375 [==============================] - 1s 3ms/step - loss: 0.3212 - accuracy: 0.9107 - val_loss: 0.3073 - val_accuracy: 0.9146\n",
            "Epoch 51/200\n",
            "375/375 [==============================] - 1s 3ms/step - loss: 0.3203 - accuracy: 0.9109 - val_loss: 0.3065 - val_accuracy: 0.9149\n",
            "Epoch 52/200\n",
            "375/375 [==============================] - 1s 3ms/step - loss: 0.3195 - accuracy: 0.9110 - val_loss: 0.3059 - val_accuracy: 0.9154\n",
            "Epoch 53/200\n",
            "375/375 [==============================] - 1s 3ms/step - loss: 0.3187 - accuracy: 0.9115 - val_loss: 0.3054 - val_accuracy: 0.9155\n",
            "Epoch 54/200\n",
            "375/375 [==============================] - 1s 3ms/step - loss: 0.3179 - accuracy: 0.9116 - val_loss: 0.3047 - val_accuracy: 0.9153\n",
            "Epoch 55/200\n",
            "375/375 [==============================] - 1s 3ms/step - loss: 0.3172 - accuracy: 0.9119 - val_loss: 0.3040 - val_accuracy: 0.9155\n",
            "Epoch 56/200\n",
            "375/375 [==============================] - 1s 3ms/step - loss: 0.3164 - accuracy: 0.9122 - val_loss: 0.3035 - val_accuracy: 0.9158\n",
            "Epoch 57/200\n",
            "375/375 [==============================] - 2s 4ms/step - loss: 0.3157 - accuracy: 0.9123 - val_loss: 0.3029 - val_accuracy: 0.9158\n",
            "Epoch 58/200\n",
            "375/375 [==============================] - 1s 3ms/step - loss: 0.3150 - accuracy: 0.9126 - val_loss: 0.3024 - val_accuracy: 0.9163\n",
            "Epoch 59/200\n",
            "375/375 [==============================] - 2s 4ms/step - loss: 0.3143 - accuracy: 0.9127 - val_loss: 0.3018 - val_accuracy: 0.9159\n",
            "Epoch 60/200\n",
            "375/375 [==============================] - 2s 5ms/step - loss: 0.3136 - accuracy: 0.9133 - val_loss: 0.3014 - val_accuracy: 0.9162\n",
            "Epoch 61/200\n",
            "375/375 [==============================] - 2s 4ms/step - loss: 0.3130 - accuracy: 0.9132 - val_loss: 0.3008 - val_accuracy: 0.9168\n",
            "Epoch 62/200\n",
            "375/375 [==============================] - 1s 3ms/step - loss: 0.3123 - accuracy: 0.9136 - val_loss: 0.3004 - val_accuracy: 0.9168\n",
            "Epoch 63/200\n",
            "375/375 [==============================] - 1s 3ms/step - loss: 0.3117 - accuracy: 0.9137 - val_loss: 0.2999 - val_accuracy: 0.9167\n",
            "Epoch 64/200\n",
            "375/375 [==============================] - 1s 3ms/step - loss: 0.3111 - accuracy: 0.9137 - val_loss: 0.2994 - val_accuracy: 0.9166\n",
            "Epoch 65/200\n",
            "375/375 [==============================] - 1s 3ms/step - loss: 0.3105 - accuracy: 0.9141 - val_loss: 0.2989 - val_accuracy: 0.9172\n",
            "Epoch 66/200\n",
            "375/375 [==============================] - 1s 3ms/step - loss: 0.3099 - accuracy: 0.9142 - val_loss: 0.2985 - val_accuracy: 0.9172\n",
            "Epoch 67/200\n",
            "375/375 [==============================] - 1s 3ms/step - loss: 0.3093 - accuracy: 0.9146 - val_loss: 0.2981 - val_accuracy: 0.9172\n",
            "Epoch 68/200\n",
            "375/375 [==============================] - 1s 3ms/step - loss: 0.3088 - accuracy: 0.9145 - val_loss: 0.2977 - val_accuracy: 0.9177\n",
            "Epoch 69/200\n",
            "375/375 [==============================] - 1s 3ms/step - loss: 0.3082 - accuracy: 0.9146 - val_loss: 0.2973 - val_accuracy: 0.9169\n",
            "Epoch 70/200\n",
            "375/375 [==============================] - 1s 3ms/step - loss: 0.3077 - accuracy: 0.9149 - val_loss: 0.2969 - val_accuracy: 0.9178\n",
            "Epoch 71/200\n",
            "375/375 [==============================] - 1s 3ms/step - loss: 0.3072 - accuracy: 0.9153 - val_loss: 0.2964 - val_accuracy: 0.9182\n",
            "Epoch 72/200\n",
            "375/375 [==============================] - 1s 3ms/step - loss: 0.3067 - accuracy: 0.9154 - val_loss: 0.2960 - val_accuracy: 0.9179\n",
            "Epoch 73/200\n",
            "375/375 [==============================] - 1s 3ms/step - loss: 0.3062 - accuracy: 0.9151 - val_loss: 0.2957 - val_accuracy: 0.9181\n",
            "Epoch 74/200\n",
            "375/375 [==============================] - 1s 3ms/step - loss: 0.3057 - accuracy: 0.9156 - val_loss: 0.2953 - val_accuracy: 0.9181\n",
            "Epoch 75/200\n",
            "375/375 [==============================] - 1s 3ms/step - loss: 0.3051 - accuracy: 0.9154 - val_loss: 0.2950 - val_accuracy: 0.9181\n",
            "Epoch 76/200\n",
            "375/375 [==============================] - 1s 3ms/step - loss: 0.3047 - accuracy: 0.9157 - val_loss: 0.2947 - val_accuracy: 0.9185\n",
            "Epoch 77/200\n",
            "375/375 [==============================] - 1s 3ms/step - loss: 0.3042 - accuracy: 0.9156 - val_loss: 0.2942 - val_accuracy: 0.9187\n",
            "Epoch 78/200\n",
            "375/375 [==============================] - 1s 3ms/step - loss: 0.3038 - accuracy: 0.9161 - val_loss: 0.2939 - val_accuracy: 0.9184\n",
            "Epoch 79/200\n",
            "375/375 [==============================] - 1s 3ms/step - loss: 0.3033 - accuracy: 0.9161 - val_loss: 0.2935 - val_accuracy: 0.9184\n",
            "Epoch 80/200\n",
            "375/375 [==============================] - 1s 3ms/step - loss: 0.3029 - accuracy: 0.9160 - val_loss: 0.2933 - val_accuracy: 0.9189\n",
            "Epoch 81/200\n",
            "375/375 [==============================] - 1s 3ms/step - loss: 0.3024 - accuracy: 0.9162 - val_loss: 0.2929 - val_accuracy: 0.9188\n",
            "Epoch 82/200\n",
            "375/375 [==============================] - 1s 3ms/step - loss: 0.3020 - accuracy: 0.9165 - val_loss: 0.2927 - val_accuracy: 0.9191\n",
            "Epoch 83/200\n",
            "375/375 [==============================] - 1s 3ms/step - loss: 0.3016 - accuracy: 0.9166 - val_loss: 0.2924 - val_accuracy: 0.9190\n",
            "Epoch 84/200\n",
            "375/375 [==============================] - 1s 3ms/step - loss: 0.3012 - accuracy: 0.9167 - val_loss: 0.2921 - val_accuracy: 0.9192\n",
            "Epoch 85/200\n",
            "375/375 [==============================] - 1s 3ms/step - loss: 0.3008 - accuracy: 0.9169 - val_loss: 0.2918 - val_accuracy: 0.9189\n",
            "Epoch 86/200\n",
            "375/375 [==============================] - 1s 3ms/step - loss: 0.3004 - accuracy: 0.9166 - val_loss: 0.2914 - val_accuracy: 0.9192\n",
            "Epoch 87/200\n",
            "375/375 [==============================] - 1s 3ms/step - loss: 0.3000 - accuracy: 0.9171 - val_loss: 0.2912 - val_accuracy: 0.9191\n",
            "Epoch 88/200\n",
            "375/375 [==============================] - 1s 3ms/step - loss: 0.2996 - accuracy: 0.9171 - val_loss: 0.2909 - val_accuracy: 0.9191\n",
            "Epoch 89/200\n",
            "375/375 [==============================] - 1s 3ms/step - loss: 0.2992 - accuracy: 0.9169 - val_loss: 0.2906 - val_accuracy: 0.9188\n",
            "Epoch 90/200\n",
            "375/375 [==============================] - 1s 3ms/step - loss: 0.2989 - accuracy: 0.9172 - val_loss: 0.2904 - val_accuracy: 0.9192\n",
            "Epoch 91/200\n",
            "375/375 [==============================] - 1s 3ms/step - loss: 0.2985 - accuracy: 0.9173 - val_loss: 0.2901 - val_accuracy: 0.9192\n",
            "Epoch 92/200\n",
            "375/375 [==============================] - 1s 3ms/step - loss: 0.2981 - accuracy: 0.9174 - val_loss: 0.2899 - val_accuracy: 0.9190\n",
            "Epoch 93/200\n",
            "375/375 [==============================] - 1s 3ms/step - loss: 0.2978 - accuracy: 0.9175 - val_loss: 0.2897 - val_accuracy: 0.9189\n",
            "Epoch 94/200\n",
            "375/375 [==============================] - 1s 3ms/step - loss: 0.2974 - accuracy: 0.9176 - val_loss: 0.2893 - val_accuracy: 0.9193\n",
            "Epoch 95/200\n",
            "375/375 [==============================] - 1s 3ms/step - loss: 0.2971 - accuracy: 0.9174 - val_loss: 0.2891 - val_accuracy: 0.9194\n",
            "Epoch 96/200\n",
            "375/375 [==============================] - 1s 3ms/step - loss: 0.2967 - accuracy: 0.9175 - val_loss: 0.2889 - val_accuracy: 0.9193\n",
            "Epoch 97/200\n",
            "375/375 [==============================] - 1s 3ms/step - loss: 0.2964 - accuracy: 0.9178 - val_loss: 0.2885 - val_accuracy: 0.9196\n",
            "Epoch 98/200\n",
            "375/375 [==============================] - 1s 3ms/step - loss: 0.2961 - accuracy: 0.9178 - val_loss: 0.2883 - val_accuracy: 0.9197\n",
            "Epoch 99/200\n",
            "375/375 [==============================] - 1s 3ms/step - loss: 0.2957 - accuracy: 0.9178 - val_loss: 0.2881 - val_accuracy: 0.9200\n",
            "Epoch 100/200\n",
            "375/375 [==============================] - 1s 3ms/step - loss: 0.2954 - accuracy: 0.9181 - val_loss: 0.2879 - val_accuracy: 0.9196\n",
            "Epoch 101/200\n",
            "375/375 [==============================] - 1s 3ms/step - loss: 0.2951 - accuracy: 0.9181 - val_loss: 0.2877 - val_accuracy: 0.9197\n",
            "Epoch 102/200\n",
            "375/375 [==============================] - 1s 3ms/step - loss: 0.2948 - accuracy: 0.9181 - val_loss: 0.2874 - val_accuracy: 0.9200\n",
            "Epoch 103/200\n",
            "375/375 [==============================] - 1s 3ms/step - loss: 0.2945 - accuracy: 0.9180 - val_loss: 0.2873 - val_accuracy: 0.9203\n",
            "Epoch 104/200\n",
            "375/375 [==============================] - 1s 3ms/step - loss: 0.2942 - accuracy: 0.9183 - val_loss: 0.2871 - val_accuracy: 0.9201\n",
            "Epoch 105/200\n",
            "375/375 [==============================] - 1s 3ms/step - loss: 0.2939 - accuracy: 0.9183 - val_loss: 0.2869 - val_accuracy: 0.9202\n",
            "Epoch 106/200\n",
            "375/375 [==============================] - 1s 3ms/step - loss: 0.2936 - accuracy: 0.9182 - val_loss: 0.2866 - val_accuracy: 0.9203\n",
            "Epoch 107/200\n",
            "375/375 [==============================] - 1s 3ms/step - loss: 0.2933 - accuracy: 0.9184 - val_loss: 0.2864 - val_accuracy: 0.9202\n",
            "Epoch 108/200\n",
            "375/375 [==============================] - 1s 3ms/step - loss: 0.2930 - accuracy: 0.9186 - val_loss: 0.2862 - val_accuracy: 0.9202\n",
            "Epoch 109/200\n",
            "375/375 [==============================] - 1s 3ms/step - loss: 0.2928 - accuracy: 0.9185 - val_loss: 0.2860 - val_accuracy: 0.9201\n",
            "Epoch 110/200\n",
            "375/375 [==============================] - 1s 3ms/step - loss: 0.2925 - accuracy: 0.9187 - val_loss: 0.2858 - val_accuracy: 0.9202\n",
            "Epoch 111/200\n",
            "375/375 [==============================] - 1s 3ms/step - loss: 0.2922 - accuracy: 0.9186 - val_loss: 0.2856 - val_accuracy: 0.9205\n",
            "Epoch 112/200\n",
            "375/375 [==============================] - 1s 3ms/step - loss: 0.2919 - accuracy: 0.9186 - val_loss: 0.2854 - val_accuracy: 0.9207\n",
            "Epoch 113/200\n",
            "375/375 [==============================] - 1s 3ms/step - loss: 0.2916 - accuracy: 0.9189 - val_loss: 0.2853 - val_accuracy: 0.9208\n",
            "Epoch 114/200\n",
            "375/375 [==============================] - 1s 3ms/step - loss: 0.2914 - accuracy: 0.9187 - val_loss: 0.2850 - val_accuracy: 0.9208\n",
            "Epoch 115/200\n",
            "375/375 [==============================] - 1s 3ms/step - loss: 0.2911 - accuracy: 0.9193 - val_loss: 0.2849 - val_accuracy: 0.9208\n",
            "Epoch 116/200\n",
            "375/375 [==============================] - 1s 3ms/step - loss: 0.2909 - accuracy: 0.9190 - val_loss: 0.2847 - val_accuracy: 0.9212\n",
            "Epoch 117/200\n",
            "375/375 [==============================] - 1s 3ms/step - loss: 0.2906 - accuracy: 0.9191 - val_loss: 0.2845 - val_accuracy: 0.9207\n",
            "Epoch 118/200\n",
            "375/375 [==============================] - 1s 3ms/step - loss: 0.2904 - accuracy: 0.9192 - val_loss: 0.2844 - val_accuracy: 0.9212\n",
            "Epoch 119/200\n",
            "375/375 [==============================] - 1s 3ms/step - loss: 0.2901 - accuracy: 0.9194 - val_loss: 0.2842 - val_accuracy: 0.9208\n",
            "Epoch 120/200\n",
            "375/375 [==============================] - 1s 3ms/step - loss: 0.2899 - accuracy: 0.9194 - val_loss: 0.2841 - val_accuracy: 0.9210\n",
            "Epoch 121/200\n",
            "375/375 [==============================] - 1s 3ms/step - loss: 0.2896 - accuracy: 0.9195 - val_loss: 0.2839 - val_accuracy: 0.9211\n",
            "Epoch 122/200\n",
            "375/375 [==============================] - 1s 3ms/step - loss: 0.2894 - accuracy: 0.9193 - val_loss: 0.2837 - val_accuracy: 0.9211\n",
            "Epoch 123/200\n",
            "375/375 [==============================] - 1s 3ms/step - loss: 0.2891 - accuracy: 0.9194 - val_loss: 0.2836 - val_accuracy: 0.9211\n",
            "Epoch 124/200\n",
            "375/375 [==============================] - 1s 3ms/step - loss: 0.2889 - accuracy: 0.9193 - val_loss: 0.2834 - val_accuracy: 0.9213\n",
            "Epoch 125/200\n",
            "375/375 [==============================] - 1s 3ms/step - loss: 0.2887 - accuracy: 0.9198 - val_loss: 0.2833 - val_accuracy: 0.9210\n",
            "Epoch 126/200\n",
            "375/375 [==============================] - 1s 3ms/step - loss: 0.2884 - accuracy: 0.9196 - val_loss: 0.2831 - val_accuracy: 0.9210\n",
            "Epoch 127/200\n",
            "375/375 [==============================] - 1s 3ms/step - loss: 0.2882 - accuracy: 0.9194 - val_loss: 0.2830 - val_accuracy: 0.9211\n",
            "Epoch 128/200\n",
            "375/375 [==============================] - 1s 3ms/step - loss: 0.2880 - accuracy: 0.9198 - val_loss: 0.2827 - val_accuracy: 0.9210\n",
            "Epoch 129/200\n",
            "375/375 [==============================] - 1s 3ms/step - loss: 0.2877 - accuracy: 0.9201 - val_loss: 0.2827 - val_accuracy: 0.9209\n",
            "Epoch 130/200\n",
            "375/375 [==============================] - 1s 3ms/step - loss: 0.2875 - accuracy: 0.9202 - val_loss: 0.2826 - val_accuracy: 0.9210\n",
            "Epoch 131/200\n",
            "375/375 [==============================] - 1s 3ms/step - loss: 0.2873 - accuracy: 0.9200 - val_loss: 0.2824 - val_accuracy: 0.9215\n",
            "Epoch 132/200\n",
            "375/375 [==============================] - 1s 3ms/step - loss: 0.2871 - accuracy: 0.9203 - val_loss: 0.2822 - val_accuracy: 0.9212\n",
            "Epoch 133/200\n",
            "375/375 [==============================] - 1s 3ms/step - loss: 0.2869 - accuracy: 0.9204 - val_loss: 0.2821 - val_accuracy: 0.9215\n",
            "Epoch 134/200\n",
            "375/375 [==============================] - 1s 3ms/step - loss: 0.2867 - accuracy: 0.9204 - val_loss: 0.2821 - val_accuracy: 0.9214\n",
            "Epoch 135/200\n",
            "375/375 [==============================] - 1s 3ms/step - loss: 0.2865 - accuracy: 0.9203 - val_loss: 0.2818 - val_accuracy: 0.9215\n",
            "Epoch 136/200\n",
            "375/375 [==============================] - 1s 3ms/step - loss: 0.2863 - accuracy: 0.9205 - val_loss: 0.2817 - val_accuracy: 0.9218\n",
            "Epoch 137/200\n",
            "375/375 [==============================] - 1s 3ms/step - loss: 0.2861 - accuracy: 0.9206 - val_loss: 0.2815 - val_accuracy: 0.9217\n",
            "Epoch 138/200\n",
            "375/375 [==============================] - 1s 3ms/step - loss: 0.2858 - accuracy: 0.9203 - val_loss: 0.2814 - val_accuracy: 0.9217\n",
            "Epoch 139/200\n",
            "375/375 [==============================] - 1s 3ms/step - loss: 0.2857 - accuracy: 0.9208 - val_loss: 0.2813 - val_accuracy: 0.9212\n",
            "Epoch 140/200\n",
            "375/375 [==============================] - 1s 3ms/step - loss: 0.2855 - accuracy: 0.9207 - val_loss: 0.2811 - val_accuracy: 0.9216\n",
            "Epoch 141/200\n",
            "375/375 [==============================] - 1s 3ms/step - loss: 0.2853 - accuracy: 0.9206 - val_loss: 0.2810 - val_accuracy: 0.9221\n",
            "Epoch 142/200\n",
            "375/375 [==============================] - 1s 3ms/step - loss: 0.2851 - accuracy: 0.9207 - val_loss: 0.2810 - val_accuracy: 0.9215\n",
            "Epoch 143/200\n",
            "375/375 [==============================] - 1s 3ms/step - loss: 0.2849 - accuracy: 0.9208 - val_loss: 0.2808 - val_accuracy: 0.9217\n",
            "Epoch 144/200\n",
            "375/375 [==============================] - 1s 3ms/step - loss: 0.2847 - accuracy: 0.9206 - val_loss: 0.2807 - val_accuracy: 0.9221\n",
            "Epoch 145/200\n",
            "375/375 [==============================] - 1s 3ms/step - loss: 0.2845 - accuracy: 0.9210 - val_loss: 0.2805 - val_accuracy: 0.9218\n",
            "Epoch 146/200\n",
            "375/375 [==============================] - 1s 3ms/step - loss: 0.2843 - accuracy: 0.9209 - val_loss: 0.2804 - val_accuracy: 0.9224\n",
            "Epoch 147/200\n",
            "375/375 [==============================] - 1s 3ms/step - loss: 0.2841 - accuracy: 0.9213 - val_loss: 0.2803 - val_accuracy: 0.9218\n",
            "Epoch 148/200\n",
            "375/375 [==============================] - 1s 3ms/step - loss: 0.2840 - accuracy: 0.9211 - val_loss: 0.2801 - val_accuracy: 0.9219\n",
            "Epoch 149/200\n",
            "375/375 [==============================] - 1s 3ms/step - loss: 0.2838 - accuracy: 0.9210 - val_loss: 0.2800 - val_accuracy: 0.9223\n",
            "Epoch 150/200\n",
            "375/375 [==============================] - 1s 3ms/step - loss: 0.2836 - accuracy: 0.9211 - val_loss: 0.2799 - val_accuracy: 0.9222\n",
            "Epoch 151/200\n",
            "375/375 [==============================] - 1s 3ms/step - loss: 0.2834 - accuracy: 0.9214 - val_loss: 0.2798 - val_accuracy: 0.9218\n",
            "Epoch 152/200\n",
            "375/375 [==============================] - 1s 3ms/step - loss: 0.2832 - accuracy: 0.9215 - val_loss: 0.2798 - val_accuracy: 0.9220\n",
            "Epoch 153/200\n",
            "375/375 [==============================] - 1s 3ms/step - loss: 0.2831 - accuracy: 0.9215 - val_loss: 0.2796 - val_accuracy: 0.9222\n",
            "Epoch 154/200\n",
            "375/375 [==============================] - 1s 3ms/step - loss: 0.2829 - accuracy: 0.9216 - val_loss: 0.2795 - val_accuracy: 0.9222\n",
            "Epoch 155/200\n",
            "375/375 [==============================] - 1s 3ms/step - loss: 0.2827 - accuracy: 0.9215 - val_loss: 0.2794 - val_accuracy: 0.9221\n",
            "Epoch 156/200\n",
            "375/375 [==============================] - 1s 3ms/step - loss: 0.2825 - accuracy: 0.9216 - val_loss: 0.2793 - val_accuracy: 0.9223\n",
            "Epoch 157/200\n",
            "375/375 [==============================] - 1s 3ms/step - loss: 0.2824 - accuracy: 0.9215 - val_loss: 0.2792 - val_accuracy: 0.9224\n",
            "Epoch 158/200\n",
            "375/375 [==============================] - 1s 3ms/step - loss: 0.2822 - accuracy: 0.9217 - val_loss: 0.2791 - val_accuracy: 0.9224\n",
            "Epoch 159/200\n",
            "375/375 [==============================] - 1s 3ms/step - loss: 0.2821 - accuracy: 0.9217 - val_loss: 0.2789 - val_accuracy: 0.9223\n",
            "Epoch 160/200\n",
            "375/375 [==============================] - 1s 3ms/step - loss: 0.2819 - accuracy: 0.9220 - val_loss: 0.2789 - val_accuracy: 0.9225\n",
            "Epoch 161/200\n",
            "375/375 [==============================] - 1s 3ms/step - loss: 0.2817 - accuracy: 0.9218 - val_loss: 0.2788 - val_accuracy: 0.9228\n",
            "Epoch 162/200\n",
            "375/375 [==============================] - 1s 3ms/step - loss: 0.2816 - accuracy: 0.9218 - val_loss: 0.2787 - val_accuracy: 0.9222\n",
            "Epoch 163/200\n",
            "375/375 [==============================] - 1s 3ms/step - loss: 0.2814 - accuracy: 0.9220 - val_loss: 0.2785 - val_accuracy: 0.9224\n",
            "Epoch 164/200\n",
            "375/375 [==============================] - 1s 3ms/step - loss: 0.2812 - accuracy: 0.9218 - val_loss: 0.2785 - val_accuracy: 0.9224\n",
            "Epoch 165/200\n",
            "375/375 [==============================] - 1s 3ms/step - loss: 0.2811 - accuracy: 0.9219 - val_loss: 0.2784 - val_accuracy: 0.9229\n",
            "Epoch 166/200\n",
            "375/375 [==============================] - 1s 3ms/step - loss: 0.2809 - accuracy: 0.9222 - val_loss: 0.2783 - val_accuracy: 0.9226\n",
            "Epoch 167/200\n",
            "375/375 [==============================] - 1s 3ms/step - loss: 0.2807 - accuracy: 0.9220 - val_loss: 0.2781 - val_accuracy: 0.9227\n",
            "Epoch 168/200\n",
            "375/375 [==============================] - 1s 3ms/step - loss: 0.2806 - accuracy: 0.9223 - val_loss: 0.2781 - val_accuracy: 0.9229\n",
            "Epoch 169/200\n",
            "375/375 [==============================] - 1s 3ms/step - loss: 0.2805 - accuracy: 0.9221 - val_loss: 0.2780 - val_accuracy: 0.9234\n",
            "Epoch 170/200\n",
            "375/375 [==============================] - 1s 3ms/step - loss: 0.2803 - accuracy: 0.9224 - val_loss: 0.2779 - val_accuracy: 0.9227\n",
            "Epoch 171/200\n",
            "375/375 [==============================] - 1s 3ms/step - loss: 0.2801 - accuracy: 0.9222 - val_loss: 0.2778 - val_accuracy: 0.9236\n",
            "Epoch 172/200\n",
            "375/375 [==============================] - 2s 5ms/step - loss: 0.2800 - accuracy: 0.9224 - val_loss: 0.2778 - val_accuracy: 0.9228\n",
            "Epoch 173/200\n",
            "375/375 [==============================] - 1s 3ms/step - loss: 0.2799 - accuracy: 0.9225 - val_loss: 0.2777 - val_accuracy: 0.9231\n",
            "Epoch 174/200\n",
            "375/375 [==============================] - 1s 3ms/step - loss: 0.2797 - accuracy: 0.9225 - val_loss: 0.2775 - val_accuracy: 0.9235\n",
            "Epoch 175/200\n",
            "375/375 [==============================] - 1s 3ms/step - loss: 0.2795 - accuracy: 0.9225 - val_loss: 0.2775 - val_accuracy: 0.9232\n",
            "Epoch 176/200\n",
            "375/375 [==============================] - 1s 3ms/step - loss: 0.2794 - accuracy: 0.9224 - val_loss: 0.2773 - val_accuracy: 0.9233\n",
            "Epoch 177/200\n",
            "375/375 [==============================] - 1s 3ms/step - loss: 0.2792 - accuracy: 0.9228 - val_loss: 0.2773 - val_accuracy: 0.9233\n",
            "Epoch 178/200\n",
            "375/375 [==============================] - 1s 3ms/step - loss: 0.2792 - accuracy: 0.9228 - val_loss: 0.2772 - val_accuracy: 0.9234\n",
            "Epoch 179/200\n",
            "375/375 [==============================] - 1s 3ms/step - loss: 0.2790 - accuracy: 0.9225 - val_loss: 0.2771 - val_accuracy: 0.9234\n",
            "Epoch 180/200\n",
            "375/375 [==============================] - 2s 6ms/step - loss: 0.2789 - accuracy: 0.9225 - val_loss: 0.2770 - val_accuracy: 0.9233\n",
            "Epoch 181/200\n",
            "375/375 [==============================] - 1s 3ms/step - loss: 0.2787 - accuracy: 0.9226 - val_loss: 0.2769 - val_accuracy: 0.9232\n",
            "Epoch 182/200\n",
            "375/375 [==============================] - 2s 4ms/step - loss: 0.2786 - accuracy: 0.9229 - val_loss: 0.2768 - val_accuracy: 0.9234\n",
            "Epoch 183/200\n",
            "375/375 [==============================] - 2s 5ms/step - loss: 0.2784 - accuracy: 0.9228 - val_loss: 0.2769 - val_accuracy: 0.9235\n",
            "Epoch 184/200\n",
            "375/375 [==============================] - 2s 5ms/step - loss: 0.2783 - accuracy: 0.9231 - val_loss: 0.2767 - val_accuracy: 0.9238\n",
            "Epoch 185/200\n",
            "375/375 [==============================] - 2s 4ms/step - loss: 0.2782 - accuracy: 0.9229 - val_loss: 0.2767 - val_accuracy: 0.9239\n",
            "Epoch 186/200\n",
            "375/375 [==============================] - 2s 4ms/step - loss: 0.2780 - accuracy: 0.9228 - val_loss: 0.2766 - val_accuracy: 0.9230\n",
            "Epoch 187/200\n",
            "375/375 [==============================] - 2s 4ms/step - loss: 0.2779 - accuracy: 0.9231 - val_loss: 0.2765 - val_accuracy: 0.9235\n",
            "Epoch 188/200\n",
            "375/375 [==============================] - 1s 3ms/step - loss: 0.2778 - accuracy: 0.9232 - val_loss: 0.2763 - val_accuracy: 0.9237\n",
            "Epoch 189/200\n",
            "375/375 [==============================] - 1s 3ms/step - loss: 0.2776 - accuracy: 0.9230 - val_loss: 0.2763 - val_accuracy: 0.9240\n",
            "Epoch 190/200\n",
            "375/375 [==============================] - 2s 5ms/step - loss: 0.2775 - accuracy: 0.9232 - val_loss: 0.2763 - val_accuracy: 0.9235\n",
            "Epoch 191/200\n",
            "375/375 [==============================] - 1s 4ms/step - loss: 0.2774 - accuracy: 0.9231 - val_loss: 0.2762 - val_accuracy: 0.9236\n",
            "Epoch 192/200\n",
            "375/375 [==============================] - 2s 4ms/step - loss: 0.2772 - accuracy: 0.9231 - val_loss: 0.2761 - val_accuracy: 0.9236\n",
            "Epoch 193/200\n",
            "375/375 [==============================] - 2s 4ms/step - loss: 0.2771 - accuracy: 0.9233 - val_loss: 0.2760 - val_accuracy: 0.9237\n",
            "Epoch 194/200\n",
            "375/375 [==============================] - 2s 4ms/step - loss: 0.2770 - accuracy: 0.9234 - val_loss: 0.2759 - val_accuracy: 0.9236\n",
            "Epoch 195/200\n",
            "375/375 [==============================] - 2s 4ms/step - loss: 0.2769 - accuracy: 0.9233 - val_loss: 0.2759 - val_accuracy: 0.9242\n",
            "Epoch 196/200\n",
            "375/375 [==============================] - 1s 3ms/step - loss: 0.2767 - accuracy: 0.9232 - val_loss: 0.2758 - val_accuracy: 0.9241\n",
            "Epoch 197/200\n",
            "375/375 [==============================] - 2s 4ms/step - loss: 0.2766 - accuracy: 0.9233 - val_loss: 0.2757 - val_accuracy: 0.9241\n",
            "Epoch 198/200\n",
            "375/375 [==============================] - 2s 5ms/step - loss: 0.2765 - accuracy: 0.9231 - val_loss: 0.2757 - val_accuracy: 0.9237\n",
            "Epoch 199/200\n",
            "375/375 [==============================] - 2s 4ms/step - loss: 0.2764 - accuracy: 0.9235 - val_loss: 0.2755 - val_accuracy: 0.9243\n",
            "Epoch 200/200\n",
            "375/375 [==============================] - 2s 4ms/step - loss: 0.2763 - accuracy: 0.9234 - val_loss: 0.2755 - val_accuracy: 0.9240\n"
          ]
        },
        {
          "output_type": "execute_result",
          "data": {
            "text/plain": [
              "<keras.callbacks.History at 0x7f2432593dc0>"
            ]
          },
          "metadata": {},
          "execution_count": 72
        }
      ]
    },
    {
      "cell_type": "code",
      "execution_count": 74,
      "metadata": {
        "colab": {
          "base_uri": "https://localhost:8080/"
        },
        "id": "BBy1Pzh2GqNI",
        "outputId": "663c050a-6d85-48f1-c250-1321d478c9ac"
      },
      "outputs": [
        {
          "output_type": "stream",
          "name": "stdout",
          "text": [
            "313/313 [==============================] - 1s 2ms/step - loss: 0.2770 - accuracy: 0.9226\n",
            "Test accuracy: 0.9225999712944031\n",
            "313/313 [==============================] - 0s 1ms/step\n"
          ]
        }
      ],
      "source": [
        "\n",
        "#evalute the model\n",
        "test_loss, test_acc = model.evaluate(X_test, Y_test)\n",
        "print('Test accuracy:', test_acc)\n",
        "\n",
        "# making prediction\n",
        "predictions = model.predict(X_test)\n"
      ]
    }
  ]
}