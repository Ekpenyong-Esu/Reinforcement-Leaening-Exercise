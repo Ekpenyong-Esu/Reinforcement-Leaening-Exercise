{
  "nbformat": 4,
  "nbformat_minor": 0,
  "metadata": {
    "colab": {
      "provenance": [],
      "authorship_tag": "ABX9TyMKbVgPEEx20j779Xev2ghT"
    },
    "kernelspec": {
      "name": "python3",
      "display_name": "Python 3"
    },
    "language_info": {
      "name": "python"
    }
  },
  "cells": [
    {
      "cell_type": "code",
      "execution_count": 36,
      "metadata": {
        "id": "b8cZ3rTIHP4U"
      },
      "outputs": [],
      "source": []
    },
    {
      "cell_type": "code",
      "execution_count": 37,
      "metadata": {
        "id": "OJR_oEC89V6F"
      },
      "outputs": [],
      "source": [
        "# Importing the basic files \n",
        "from tensorflow.keras.models import Sequential\n",
        "from tensorflow.keras.layers import Dense, Activation, Dropout\n",
        "from tensorflow.keras.optimizers import SGD, RMSprop, Adam\n",
        "import tensorflow as tf\n",
        "import numpy as np\n"
      ]
    },
    {
      "cell_type": "code",
      "source": [
        "#creating files needed for training \n",
        "# network and training\n",
        "EPOCHS = 50            # This is the amount of time the algorithm will run\n",
        "BATCH_SIZE = 128        # The number of files taken in for each Epochs\n",
        "VERBOSE = 1             # This means when compiling, dont give me too much notification\n",
        "NB_CLASSES = 10   # number of outputs = number of digits\n",
        "N_HIDDEN = 128    # The number of outpu with respect to the hiden layer\n",
        "VALIDATION_SPLIT=0.2 # how much TRAIN is reserved for VALIDATION\n",
        "DROPOUT = 0.3\n"
      ],
      "metadata": {
        "id": "Ge7S95WD9vUZ"
      },
      "execution_count": 38,
      "outputs": []
    },
    {
      "cell_type": "code",
      "source": [
        "# Importing the mnist data set \n",
        "# loading MNIST dataset\n",
        "# verify\n",
        "# the split between train and test is 60,000, and 10,000 respectly \n",
        "# one-hot is automatically applied\n",
        "from tensorflow.keras.datasets import mnist          #importing the mnist dataset \n",
        "\n",
        "(X_train, Y_train), (X_test, Y_test) = mnist.load_data()  # Loading the dataset\n",
        "print(X_train[0].shape)                                   # This shows that we have 6000 images with size 28 by 28\n",
        "print(X_train.shape)\n"
      ],
      "metadata": {
        "colab": {
          "base_uri": "https://localhost:8080/"
        },
        "id": "679798CJ-37U",
        "outputId": "bcb1fdbc-02e0-4d24-bf32-07e525c9a317"
      },
      "execution_count": 39,
      "outputs": [
        {
          "output_type": "stream",
          "name": "stdout",
          "text": [
            "(28, 28)\n",
            "(60000, 28, 28)\n"
          ]
        }
      ]
    },
    {
      "cell_type": "code",
      "source": [
        "#X_train is 60000 rows of 28x28 values --> reshaped in 60000 x 784\n",
        "RESHAPED = 784\n"
      ],
      "metadata": {
        "id": "fm-xl3cJ_Wuz"
      },
      "execution_count": 40,
      "outputs": []
    },
    {
      "cell_type": "code",
      "source": [
        "# reshaping the dataset\n",
        "X_train = X_train.reshape(60000, RESHAPED)   # We reshape the dataset to have 60000 x 784\n",
        "X_test = X_test.reshape(10000, RESHAPED)\n",
        "X_test = X_test.astype('float32')             # reshape this to float\n",
        "Y_train = Y_train.astype('float32')\n"
      ],
      "metadata": {
        "id": "nXCBnh1BAoak"
      },
      "execution_count": 41,
      "outputs": []
    },
    {
      "cell_type": "code",
      "source": [
        "#normalize in [0,1]\n",
        "X_train, X_test = X_train / 255.0, X_test / 255.0  # Since the RGB value of color ranges from 0 to 255\n",
        "print(X_train.shape[0], 'train samples')\n",
        "print(X_test.shape[0], 'test samples')\n"
      ],
      "metadata": {
        "colab": {
          "base_uri": "https://localhost:8080/"
        },
        "id": "jgEsrHc6A7l5",
        "outputId": "136525ff-758d-455d-fd06-5c4248ee5109"
      },
      "execution_count": 42,
      "outputs": [
        {
          "output_type": "stream",
          "name": "stdout",
          "text": [
            "60000 train samples\n",
            "10000 test samples\n"
          ]
        }
      ]
    },
    {
      "cell_type": "code",
      "source": [
        "# Inporting tensorflow one hot encoder\n",
        "from tensorflow.keras.utils import to_categorical\n",
        "\n",
        "Y_train = to_categorical(Y_train, NB_CLASSES) # NB_CLASSES = 10\n",
        "Y_test = to_categorical(Y_test, NB_CLASSES)"
      ],
      "metadata": {
        "id": "rjPCwGCABZzV"
      },
      "execution_count": 43,
      "outputs": []
    },
    {
      "cell_type": "code",
      "source": [
        "#build the model\n",
        "model = Sequential()                              #Creating sequential first\n",
        "model.add(Dense(N_HIDDEN,\n",
        "   \t\tinput_shape=(RESHAPED,),\n",
        "   \t\tname='dense_layer', activation='relu'))\t\t\t# The first Dense layer takes input of 728\n",
        "model.add(Dropout(DROPOUT))       \n",
        "model.add(Dense(N_HIDDEN,\n",
        "   \t\tname='dense_layer_2', activation='relu'))     # The second Dense layer\n",
        "model.add(Dropout(DROPOUT))\t\t\t\t\t\t\t\t\t\t\t\t\t# droping out 30 percent of the data\n",
        "model.add(Dense(NB_CLASSES,\n",
        "   \t\tname='dense_layer_3', activation='softmax'))    # The third dense layer gives output of 10\n"
      ],
      "metadata": {
        "id": "3ASxB-htB29o"
      },
      "execution_count": 44,
      "outputs": []
    },
    {
      "cell_type": "code",
      "source": [],
      "metadata": {
        "id": "qJe5oKAMK-B7"
      },
      "execution_count": 44,
      "outputs": []
    },
    {
      "cell_type": "code",
      "source": [
        "# summary of the model\n",
        "model.summary()\n"
      ],
      "metadata": {
        "colab": {
          "base_uri": "https://localhost:8080/"
        },
        "id": "kbI_DNpdClzD",
        "outputId": "53f8218d-ee58-4ee6-ef95-146544e8885d"
      },
      "execution_count": 45,
      "outputs": [
        {
          "output_type": "stream",
          "name": "stdout",
          "text": [
            "Model: \"sequential_3\"\n",
            "_________________________________________________________________\n",
            " Layer (type)                Output Shape              Param #   \n",
            "=================================================================\n",
            " dense_layer (Dense)         (None, 128)               100480    \n",
            "                                                                 \n",
            " dropout_4 (Dropout)         (None, 128)               0         \n",
            "                                                                 \n",
            " dense_layer_2 (Dense)       (None, 128)               16512     \n",
            "                                                                 \n",
            " dropout_5 (Dropout)         (None, 128)               0         \n",
            "                                                                 \n",
            " dense_layer_3 (Dense)       (None, 10)                1290      \n",
            "                                                                 \n",
            "=================================================================\n",
            "Total params: 118,282\n",
            "Trainable params: 118,282\n",
            "Non-trainable params: 0\n",
            "_________________________________________________________________\n"
          ]
        }
      ]
    },
    {
      "cell_type": "code",
      "source": [
        "# compiling the model\n",
        "model.compile(optimizer='RMSProp', \n",
        "              loss='categorical_crossentropy',\n",
        "              metrics=['accuracy'])\n"
      ],
      "metadata": {
        "id": "TIY_m96iCm9R"
      },
      "execution_count": 46,
      "outputs": []
    },
    {
      "cell_type": "code",
      "source": [
        "#training the model\n",
        "model.fit(X_train, Y_train,\n",
        "\t\tbatch_size=BATCH_SIZE, epochs=EPOCHS,\n",
        "\t\tverbose=VERBOSE, validation_split=VALIDATION_SPLIT)"
      ],
      "metadata": {
        "colab": {
          "base_uri": "https://localhost:8080/"
        },
        "id": "xv6ffbpYCxw7",
        "outputId": "1373c2d6-69f0-432a-d84e-df916bd23887"
      },
      "execution_count": 47,
      "outputs": [
        {
          "output_type": "stream",
          "name": "stdout",
          "text": [
            "Epoch 1/50\n",
            "375/375 [==============================] - 3s 7ms/step - loss: 0.4764 - accuracy: 0.8565 - val_loss: 0.1873 - val_accuracy: 0.9445\n",
            "Epoch 2/50\n",
            "375/375 [==============================] - 2s 7ms/step - loss: 0.2267 - accuracy: 0.9329 - val_loss: 0.1383 - val_accuracy: 0.9609\n",
            "Epoch 3/50\n",
            "375/375 [==============================] - 3s 7ms/step - loss: 0.1764 - accuracy: 0.9470 - val_loss: 0.1193 - val_accuracy: 0.9656\n",
            "Epoch 4/50\n",
            "375/375 [==============================] - 3s 9ms/step - loss: 0.1478 - accuracy: 0.9554 - val_loss: 0.1070 - val_accuracy: 0.9696\n",
            "Epoch 5/50\n",
            "375/375 [==============================] - 3s 8ms/step - loss: 0.1310 - accuracy: 0.9600 - val_loss: 0.1126 - val_accuracy: 0.9676\n",
            "Epoch 6/50\n",
            "375/375 [==============================] - 3s 7ms/step - loss: 0.1188 - accuracy: 0.9647 - val_loss: 0.0996 - val_accuracy: 0.9722\n",
            "Epoch 7/50\n",
            "375/375 [==============================] - 3s 7ms/step - loss: 0.1076 - accuracy: 0.9676 - val_loss: 0.0999 - val_accuracy: 0.9723\n",
            "Epoch 8/50\n",
            "375/375 [==============================] - 3s 7ms/step - loss: 0.1008 - accuracy: 0.9692 - val_loss: 0.0939 - val_accuracy: 0.9754\n",
            "Epoch 9/50\n",
            "375/375 [==============================] - 2s 7ms/step - loss: 0.0959 - accuracy: 0.9714 - val_loss: 0.0937 - val_accuracy: 0.9758\n",
            "Epoch 10/50\n",
            "375/375 [==============================] - 3s 7ms/step - loss: 0.0953 - accuracy: 0.9715 - val_loss: 0.0914 - val_accuracy: 0.9766\n",
            "Epoch 11/50\n",
            "375/375 [==============================] - 3s 7ms/step - loss: 0.0888 - accuracy: 0.9738 - val_loss: 0.0963 - val_accuracy: 0.9765\n",
            "Epoch 12/50\n",
            "375/375 [==============================] - 3s 7ms/step - loss: 0.0876 - accuracy: 0.9744 - val_loss: 0.0974 - val_accuracy: 0.9771\n",
            "Epoch 13/50\n",
            "375/375 [==============================] - 3s 7ms/step - loss: 0.0851 - accuracy: 0.9749 - val_loss: 0.0977 - val_accuracy: 0.9755\n",
            "Epoch 14/50\n",
            "375/375 [==============================] - 3s 7ms/step - loss: 0.0777 - accuracy: 0.9768 - val_loss: 0.0999 - val_accuracy: 0.9758\n",
            "Epoch 15/50\n",
            "375/375 [==============================] - 3s 7ms/step - loss: 0.0796 - accuracy: 0.9770 - val_loss: 0.1010 - val_accuracy: 0.9770\n",
            "Epoch 16/50\n",
            "375/375 [==============================] - 3s 7ms/step - loss: 0.0772 - accuracy: 0.9776 - val_loss: 0.0938 - val_accuracy: 0.9789\n",
            "Epoch 17/50\n",
            "375/375 [==============================] - 3s 7ms/step - loss: 0.0736 - accuracy: 0.9776 - val_loss: 0.1029 - val_accuracy: 0.9787\n",
            "Epoch 18/50\n",
            "375/375 [==============================] - 3s 7ms/step - loss: 0.0729 - accuracy: 0.9785 - val_loss: 0.1050 - val_accuracy: 0.9770\n",
            "Epoch 19/50\n",
            "375/375 [==============================] - 3s 7ms/step - loss: 0.0693 - accuracy: 0.9796 - val_loss: 0.1051 - val_accuracy: 0.9771\n",
            "Epoch 20/50\n",
            "375/375 [==============================] - 3s 7ms/step - loss: 0.0673 - accuracy: 0.9800 - val_loss: 0.1019 - val_accuracy: 0.9777\n",
            "Epoch 21/50\n",
            "375/375 [==============================] - 3s 7ms/step - loss: 0.0690 - accuracy: 0.9805 - val_loss: 0.1051 - val_accuracy: 0.9788\n",
            "Epoch 22/50\n",
            "375/375 [==============================] - 3s 7ms/step - loss: 0.0665 - accuracy: 0.9815 - val_loss: 0.1051 - val_accuracy: 0.9801\n",
            "Epoch 23/50\n",
            "375/375 [==============================] - 3s 7ms/step - loss: 0.0652 - accuracy: 0.9809 - val_loss: 0.1120 - val_accuracy: 0.9782\n",
            "Epoch 24/50\n",
            "375/375 [==============================] - 3s 7ms/step - loss: 0.0654 - accuracy: 0.9812 - val_loss: 0.1145 - val_accuracy: 0.9779\n",
            "Epoch 25/50\n",
            "375/375 [==============================] - 3s 7ms/step - loss: 0.0615 - accuracy: 0.9826 - val_loss: 0.1217 - val_accuracy: 0.9772\n",
            "Epoch 26/50\n",
            "375/375 [==============================] - 3s 7ms/step - loss: 0.0613 - accuracy: 0.9815 - val_loss: 0.1231 - val_accuracy: 0.9768\n",
            "Epoch 27/50\n",
            "375/375 [==============================] - 3s 7ms/step - loss: 0.0636 - accuracy: 0.9822 - val_loss: 0.1157 - val_accuracy: 0.9778\n",
            "Epoch 28/50\n",
            "375/375 [==============================] - 3s 7ms/step - loss: 0.0605 - accuracy: 0.9823 - val_loss: 0.1200 - val_accuracy: 0.9785\n",
            "Epoch 29/50\n",
            "375/375 [==============================] - 3s 7ms/step - loss: 0.0620 - accuracy: 0.9824 - val_loss: 0.1169 - val_accuracy: 0.9787\n",
            "Epoch 30/50\n",
            "375/375 [==============================] - 3s 7ms/step - loss: 0.0591 - accuracy: 0.9828 - val_loss: 0.1167 - val_accuracy: 0.9793\n",
            "Epoch 31/50\n",
            "375/375 [==============================] - 3s 7ms/step - loss: 0.0551 - accuracy: 0.9837 - val_loss: 0.1211 - val_accuracy: 0.9793\n",
            "Epoch 32/50\n",
            "375/375 [==============================] - 3s 7ms/step - loss: 0.0560 - accuracy: 0.9838 - val_loss: 0.1156 - val_accuracy: 0.9794\n",
            "Epoch 33/50\n",
            "375/375 [==============================] - 3s 7ms/step - loss: 0.0569 - accuracy: 0.9827 - val_loss: 0.1226 - val_accuracy: 0.9791\n",
            "Epoch 34/50\n",
            "375/375 [==============================] - 3s 7ms/step - loss: 0.0582 - accuracy: 0.9835 - val_loss: 0.1192 - val_accuracy: 0.9801\n",
            "Epoch 35/50\n",
            "375/375 [==============================] - 3s 7ms/step - loss: 0.0540 - accuracy: 0.9842 - val_loss: 0.1201 - val_accuracy: 0.9787\n",
            "Epoch 36/50\n",
            "375/375 [==============================] - 3s 7ms/step - loss: 0.0587 - accuracy: 0.9833 - val_loss: 0.1303 - val_accuracy: 0.9801\n",
            "Epoch 37/50\n",
            "375/375 [==============================] - 3s 7ms/step - loss: 0.0576 - accuracy: 0.9844 - val_loss: 0.1285 - val_accuracy: 0.9788\n",
            "Epoch 38/50\n",
            "375/375 [==============================] - 3s 7ms/step - loss: 0.0498 - accuracy: 0.9852 - val_loss: 0.1390 - val_accuracy: 0.9778\n",
            "Epoch 39/50\n",
            "375/375 [==============================] - 3s 7ms/step - loss: 0.0531 - accuracy: 0.9844 - val_loss: 0.1364 - val_accuracy: 0.9789\n",
            "Epoch 40/50\n",
            "375/375 [==============================] - 3s 7ms/step - loss: 0.0552 - accuracy: 0.9847 - val_loss: 0.1386 - val_accuracy: 0.9786\n",
            "Epoch 41/50\n",
            "375/375 [==============================] - 3s 7ms/step - loss: 0.0580 - accuracy: 0.9850 - val_loss: 0.1346 - val_accuracy: 0.9777\n",
            "Epoch 42/50\n",
            "375/375 [==============================] - 3s 7ms/step - loss: 0.0558 - accuracy: 0.9846 - val_loss: 0.1309 - val_accuracy: 0.9778\n",
            "Epoch 43/50\n",
            "375/375 [==============================] - 3s 7ms/step - loss: 0.0498 - accuracy: 0.9858 - val_loss: 0.1328 - val_accuracy: 0.9792\n",
            "Epoch 44/50\n",
            "375/375 [==============================] - 3s 7ms/step - loss: 0.0567 - accuracy: 0.9851 - val_loss: 0.1399 - val_accuracy: 0.9780\n",
            "Epoch 45/50\n",
            "375/375 [==============================] - 3s 7ms/step - loss: 0.0553 - accuracy: 0.9843 - val_loss: 0.1400 - val_accuracy: 0.9785\n",
            "Epoch 46/50\n",
            "375/375 [==============================] - 3s 7ms/step - loss: 0.0544 - accuracy: 0.9857 - val_loss: 0.1423 - val_accuracy: 0.9783\n",
            "Epoch 47/50\n",
            "375/375 [==============================] - 2s 7ms/step - loss: 0.0545 - accuracy: 0.9854 - val_loss: 0.1415 - val_accuracy: 0.9793\n",
            "Epoch 48/50\n",
            "375/375 [==============================] - 3s 7ms/step - loss: 0.0541 - accuracy: 0.9853 - val_loss: 0.1458 - val_accuracy: 0.9787\n",
            "Epoch 49/50\n",
            "375/375 [==============================] - 3s 7ms/step - loss: 0.0558 - accuracy: 0.9854 - val_loss: 0.1432 - val_accuracy: 0.9779\n",
            "Epoch 50/50\n",
            "375/375 [==============================] - 3s 7ms/step - loss: 0.0528 - accuracy: 0.9860 - val_loss: 0.1428 - val_accuracy: 0.9787\n"
          ]
        },
        {
          "output_type": "execute_result",
          "data": {
            "text/plain": [
              "<keras.callbacks.History at 0x7fcbb12bba90>"
            ]
          },
          "metadata": {},
          "execution_count": 47
        }
      ]
    },
    {
      "cell_type": "code",
      "source": [
        "#evaluate the model\n",
        "test_loss, test_acc = model.evaluate(X_test, Y_test)\n",
        "print('Test accuracy:', test_acc)\n"
      ],
      "metadata": {
        "colab": {
          "base_uri": "https://localhost:8080/"
        },
        "id": "R-OnB-4zFZZY",
        "outputId": "230a1656-9d68-463e-e421-3d97abe59df2"
      },
      "execution_count": 48,
      "outputs": [
        {
          "output_type": "stream",
          "name": "stdout",
          "text": [
            "313/313 [==============================] - 1s 2ms/step - loss: 0.1347 - accuracy: 0.9789\n",
            "Test accuracy: 0.9789000153541565\n"
          ]
        }
      ]
    },
    {
      "cell_type": "code",
      "source": [
        "# making prediction\n",
        "predictions = model.predict(X_test)"
      ],
      "metadata": {
        "colab": {
          "base_uri": "https://localhost:8080/"
        },
        "id": "nuWmDVDIFmGM",
        "outputId": "b6063696-dec3-4d42-ed5d-203bb880ec1f"
      },
      "execution_count": 49,
      "outputs": [
        {
          "output_type": "stream",
          "name": "stdout",
          "text": [
            "313/313 [==============================] - 1s 2ms/step\n"
          ]
        }
      ]
    }
  ]
}