{
  "nbformat": 4,
  "nbformat_minor": 0,
  "metadata": {
    "colab": {
      "private_outputs": true,
      "provenance": [],
      "authorship_tag": "ABX9TyP9MGNSRSwpfx0eduAJapR9",
      "include_colab_link": true
    },
    "kernelspec": {
      "name": "python3",
      "display_name": "Python 3"
    },
    "language_info": {
      "name": "python"
    },
    "accelerator": "GPU",
    "gpuClass": "standard"
  },
  "cells": [
    {
      "cell_type": "markdown",
      "metadata": {
        "id": "view-in-github",
        "colab_type": "text"
      },
      "source": [
        "<a href=\"https://colab.research.google.com/github/Ekpenyong-Esu/Reinforcement-Leaening-Exercise/blob/main/SentimentAnalysisWithEmbedding.ipynb\" target=\"_parent\"><img src=\"https://colab.research.google.com/assets/colab-badge.svg\" alt=\"Open In Colab\"/></a>"
      ]
    },
    {
      "cell_type": "code",
      "execution_count": null,
      "metadata": {
        "id": "1L_sXOMtzsa5"
      },
      "outputs": [],
      "source": [
        "#Importing modules\n",
        "\n",
        "import tensorflow as tf\n",
        "from tensorflow.keras import datasets, layers, models, preprocessing\n",
        "import tensorflow_datasets as tfds"
      ]
    },
    {
      "cell_type": "code",
      "source": [
        "max_len = 200        # This is use for the lenght of embedding\n",
        "n_words = 10000      # The lenght of words you want to use\n",
        "dim_embedding = 256   # output embedding\n",
        "EPOCHS = 20             # 20 iterations\n",
        "BATCH_SIZE =500         # each batch we want to feed"
      ],
      "metadata": {
        "id": "ndZQjOUQ7ujR"
      },
      "execution_count": null,
      "outputs": []
    },
    {
      "cell_type": "code",
      "source": [
        "# This function download the IMDB data from tensor.keras\n",
        "def load_data():\n",
        "\t#load data\n",
        "\t(X_train, y_train), (X_test, y_test) = datasets.imdb.load_data(num_words=n_words) # We need 1000 words hence the num_words\n",
        "\t# Pad sequences with max_len\n",
        "\tX_train = preprocessing.sequence.pad_sequences(X_train, maxlen=max_len)       # this convert sentences to integer using sequence and putting\n",
        "\tX_test = preprocessing.sequence.pad_sequences(X_test, maxlen=max_len)         # The maximum word to 200 so that we can capture all long sentences \n",
        "\treturn (X_train, y_train), (X_test, y_test)"
      ],
      "metadata": {
        "id": "dAx5ef9_8fkn"
      },
      "execution_count": null,
      "outputs": []
    },
    {
      "cell_type": "code",
      "source": [
        "# This function build the model\n",
        "\n",
        "def build_model():\n",
        "\tmodel = models.Sequential()\n",
        "\t#Input - Emedding Layer\n",
        "\t# the model will take as input an integer matrix of size (batch, input_length)\n",
        "\t# the model will output dimension (input_length, dim_embedding)\n",
        "    # the largest integer in the input should be no larger\n",
        "    # than n_words (vocabulary size).\n",
        "\tmodel.add(layers.Embedding(n_words,                 # Embedding is like Dense\n",
        "\t\tdim_embedding, input_length=max_len))             # n_words = input embedding or input neurons\n",
        "                                                      # dim_embedding = output embedding or out put neurons\n",
        "\tmodel.add(layers.Dropout(0.3))                      # drop 30 percent of the data \n",
        "\n",
        "\t#takes the maximum value of either feature vector from each of the n_words features\n",
        "\tmodel.add(layers.GlobalMaxPooling1D())              # take maximum value of a two by two vector while still keeping the information of the data\n",
        "\tmodel.add(layers.Dense(128, activation='relu'))\n",
        "\tmodel.add(layers.Dropout(0.5))\n",
        "\tmodel.add(layers.Dense(1, activation='sigmoid'))\n",
        "\n",
        "\treturn model"
      ],
      "metadata": {
        "id": "CtSsvx5V9yrP"
      },
      "execution_count": null,
      "outputs": []
    },
    {
      "cell_type": "code",
      "source": [
        "# loading the data \n",
        "\n",
        "(X_train, y_train), (X_test, y_test) = load_data()\n",
        "\n",
        "# Build the model\n",
        "model = build_model()\n",
        "\n",
        "model.summary()          # Model summary"
      ],
      "metadata": {
        "id": "gEAAWZ0i_2qt"
      },
      "execution_count": null,
      "outputs": []
    },
    {
      "cell_type": "code",
      "source": [
        "# compile the model\n",
        "\n",
        "model.compile(optimizer = \"adam\", loss = \"binary_crossentropy\",\n",
        " metrics = [\"accuracy\"]\n",
        ")"
      ],
      "metadata": {
        "id": "ecvU_lGYBUHh"
      },
      "execution_count": null,
      "outputs": []
    },
    {
      "cell_type": "code",
      "source": [
        "score = model.fit(X_train, y_train,\n",
        " epochs= EPOCHS,                         # Number of iterations\n",
        " batch_size = BATCH_SIZE,               # Batch size that we feed into the network at a time \n",
        " validation_data = (X_test, y_test)\n",
        ")"
      ],
      "metadata": {
        "id": "2-jzMy6CByOD"
      },
      "execution_count": null,
      "outputs": []
    },
    {
      "cell_type": "code",
      "source": [
        "# We evaluate our model\n",
        "score = model.evaluate(X_test, y_test, batch_size=BATCH_SIZE)\n",
        "print(\"\\nTest score:\", score[0])\n",
        "print('Test accuracy:', score[1])\n"
      ],
      "metadata": {
        "id": "MQOhkPYcCcT8"
      },
      "execution_count": null,
      "outputs": []
    }
  ]
}