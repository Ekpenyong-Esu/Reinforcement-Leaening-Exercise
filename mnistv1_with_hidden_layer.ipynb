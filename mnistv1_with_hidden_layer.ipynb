{
  "nbformat": 4,
  "nbformat_minor": 0,
  "metadata": {
    "colab": {
      "provenance": [],
      "authorship_tag": "ABX9TyMIqx8pj5856LdRiXWWn2GE"
    },
    "kernelspec": {
      "name": "python3",
      "display_name": "Python 3"
    },
    "language_info": {
      "name": "python"
    }
  },
  "cells": [
    {
      "cell_type": "code",
      "execution_count": 23,
      "metadata": {
        "id": "OJR_oEC89V6F"
      },
      "outputs": [],
      "source": [
        "# Importing the basic files \n",
        "from tensorflow.keras.models import Sequential\n",
        "from tensorflow.keras.layers import Dense, Activation\n",
        "from tensorflow.keras.optimizers import SGD\n",
        "import tensorflow as tf\n",
        "import numpy as np\n"
      ]
    },
    {
      "cell_type": "code",
      "source": [
        "#creating files needed for training \n",
        "# network and training\n",
        "EPOCHS = 50            # This is the amount of time the algorithm will run\n",
        "BATCH_SIZE = 128        # The number of files taken in for each Epochs\n",
        "VERBOSE = 1             # This means when compiling, dont give me too much notification\n",
        "NB_CLASSES = 10   # number of outputs = number of digits\n",
        "N_HIDDEN = 128    # The number of outpu with respect to the hiden layer\n",
        "VALIDATION_SPLIT=0.2 # how much TRAIN is reserved for VALIDATION\n"
      ],
      "metadata": {
        "id": "Ge7S95WD9vUZ"
      },
      "execution_count": 24,
      "outputs": []
    },
    {
      "cell_type": "code",
      "source": [
        "# Importing the mnist data set \n",
        "# loading MNIST dataset\n",
        "# verify\n",
        "# the split between train and test is 60,000, and 10,000 respectly \n",
        "# one-hot is automatically applied\n",
        "from tensorflow.keras.datasets import mnist          #importing the mnist dataset \n",
        "\n",
        "(X_train, Y_train), (X_test, Y_test) = mnist.load_data()  # Loading the dataset\n",
        "print(X_train[0].shape)                                   # This shows that we have 6000 images with size 28 by 28\n",
        "print(X_train.shape)\n"
      ],
      "metadata": {
        "colab": {
          "base_uri": "https://localhost:8080/"
        },
        "id": "679798CJ-37U",
        "outputId": "b4ebf732-9424-40b8-b326-88cc07a5d2cd"
      },
      "execution_count": 25,
      "outputs": [
        {
          "output_type": "stream",
          "name": "stdout",
          "text": [
            "(28, 28)\n",
            "(60000, 28, 28)\n"
          ]
        }
      ]
    },
    {
      "cell_type": "code",
      "source": [
        "#X_train is 60000 rows of 28x28 values --> reshaped in 60000 x 784\n",
        "RESHAPED = 784\n"
      ],
      "metadata": {
        "id": "fm-xl3cJ_Wuz"
      },
      "execution_count": 26,
      "outputs": []
    },
    {
      "cell_type": "code",
      "source": [
        "# reshaping the dataset\n",
        "X_train = X_train.reshape(60000, RESHAPED)   # We reshape the dataset to have 60000 x 784\n",
        "X_test = X_test.reshape(10000, RESHAPED)\n",
        "X_test = X_test.astype('float32')             # reshape this to float\n",
        "Y_train = Y_train.astype('float32')\n"
      ],
      "metadata": {
        "id": "nXCBnh1BAoak"
      },
      "execution_count": 27,
      "outputs": []
    },
    {
      "cell_type": "code",
      "source": [
        "#normalize in [0,1]\n",
        "X_train, X_test = X_train / 255.0, X_test / 255.0  # Since the RGB value of color ranges from 0 to 255\n",
        "print(X_train.shape[0], 'train samples')\n",
        "print(X_test.shape[0], 'test samples')\n"
      ],
      "metadata": {
        "colab": {
          "base_uri": "https://localhost:8080/"
        },
        "id": "jgEsrHc6A7l5",
        "outputId": "fb181215-7f4a-4bad-ee5e-eeca79d12982"
      },
      "execution_count": 28,
      "outputs": [
        {
          "output_type": "stream",
          "name": "stdout",
          "text": [
            "60000 train samples\n",
            "10000 test samples\n"
          ]
        }
      ]
    },
    {
      "cell_type": "code",
      "source": [
        "# Inporting tensorflow one hot encoder\n",
        "from tensorflow.keras.utils import to_categorical\n",
        "\n",
        "Y_train = to_categorical(Y_train, NB_CLASSES) # NB_CLASSES = 10\n",
        "Y_test = to_categorical(Y_test, NB_CLASSES)"
      ],
      "metadata": {
        "id": "rjPCwGCABZzV"
      },
      "execution_count": 29,
      "outputs": []
    },
    {
      "cell_type": "code",
      "source": [
        "#build the model\n",
        "model = Sequential()                              #Creating sequential first\n",
        "model.add(Dense(N_HIDDEN,\n",
        "   \t\tinput_shape=(RESHAPED,),\n",
        "   \t\tname='dense_layer', activation='relu'))       # The first Dense layer takes input of 728\n",
        "model.add(Dense(N_HIDDEN,\n",
        "   \t\tname='dense_layer_2', activation='relu'))     # The second Dense layer\n",
        "model.add(Dense(NB_CLASSES,\n",
        "   \t\tname='dense_layer_3', activation='softmax'))    # The third dense layer gives output of 10\n"
      ],
      "metadata": {
        "id": "3ASxB-htB29o"
      },
      "execution_count": 30,
      "outputs": []
    },
    {
      "cell_type": "code",
      "source": [
        "# summary of the model\n",
        "model.summary()\n"
      ],
      "metadata": {
        "colab": {
          "base_uri": "https://localhost:8080/"
        },
        "id": "kbI_DNpdClzD",
        "outputId": "d378a3c4-0b5c-481e-ae39-de9e256b90e2"
      },
      "execution_count": 31,
      "outputs": [
        {
          "output_type": "stream",
          "name": "stdout",
          "text": [
            "Model: \"sequential_1\"\n",
            "_________________________________________________________________\n",
            " Layer (type)                Output Shape              Param #   \n",
            "=================================================================\n",
            " dense_layer (Dense)         (None, 128)               100480    \n",
            "                                                                 \n",
            " dense_layer_2 (Dense)       (None, 128)               16512     \n",
            "                                                                 \n",
            " dense_layer_3 (Dense)       (None, 10)                1290      \n",
            "                                                                 \n",
            "=================================================================\n",
            "Total params: 118,282\n",
            "Trainable params: 118,282\n",
            "Non-trainable params: 0\n",
            "_________________________________________________________________\n"
          ]
        }
      ]
    },
    {
      "cell_type": "code",
      "source": [
        "# compiling the model\n",
        "model.compile(optimizer='SGD', \n",
        "              loss='categorical_crossentropy',\n",
        "              metrics=['accuracy'])\n"
      ],
      "metadata": {
        "id": "TIY_m96iCm9R"
      },
      "execution_count": 32,
      "outputs": []
    },
    {
      "cell_type": "code",
      "source": [
        "#training the model\n",
        "model.fit(X_train, Y_train,\n",
        "\t\tbatch_size=BATCH_SIZE, epochs=EPOCHS,\n",
        "\t\tverbose=VERBOSE, validation_split=VALIDATION_SPLIT)"
      ],
      "metadata": {
        "colab": {
          "base_uri": "https://localhost:8080/"
        },
        "id": "xv6ffbpYCxw7",
        "outputId": "80d40f80-982f-44e6-f3b3-7845f89c5f12"
      },
      "execution_count": 33,
      "outputs": [
        {
          "output_type": "stream",
          "name": "stdout",
          "text": [
            "Epoch 1/50\n",
            "375/375 [==============================] - 3s 5ms/step - loss: 1.4121 - accuracy: 0.6587 - val_loss: 0.7078 - val_accuracy: 0.8431\n",
            "Epoch 2/50\n",
            "375/375 [==============================] - 2s 4ms/step - loss: 0.5756 - accuracy: 0.8581 - val_loss: 0.4398 - val_accuracy: 0.8870\n",
            "Epoch 3/50\n",
            "375/375 [==============================] - 2s 4ms/step - loss: 0.4300 - accuracy: 0.8848 - val_loss: 0.3691 - val_accuracy: 0.8978\n",
            "Epoch 4/50\n",
            "375/375 [==============================] - 2s 4ms/step - loss: 0.3753 - accuracy: 0.8950 - val_loss: 0.3343 - val_accuracy: 0.9053\n",
            "Epoch 5/50\n",
            "375/375 [==============================] - 2s 4ms/step - loss: 0.3447 - accuracy: 0.9024 - val_loss: 0.3133 - val_accuracy: 0.9121\n",
            "Epoch 6/50\n",
            "375/375 [==============================] - 1s 4ms/step - loss: 0.3233 - accuracy: 0.9081 - val_loss: 0.2955 - val_accuracy: 0.9144\n",
            "Epoch 7/50\n",
            "375/375 [==============================] - 1s 4ms/step - loss: 0.3062 - accuracy: 0.9129 - val_loss: 0.2837 - val_accuracy: 0.9175\n",
            "Epoch 8/50\n",
            "375/375 [==============================] - 2s 4ms/step - loss: 0.2920 - accuracy: 0.9165 - val_loss: 0.2724 - val_accuracy: 0.9212\n",
            "Epoch 9/50\n",
            "375/375 [==============================] - 2s 4ms/step - loss: 0.2800 - accuracy: 0.9201 - val_loss: 0.2624 - val_accuracy: 0.9237\n",
            "Epoch 10/50\n",
            "375/375 [==============================] - 2s 4ms/step - loss: 0.2690 - accuracy: 0.9225 - val_loss: 0.2536 - val_accuracy: 0.9269\n",
            "Epoch 11/50\n",
            "375/375 [==============================] - 2s 4ms/step - loss: 0.2590 - accuracy: 0.9261 - val_loss: 0.2455 - val_accuracy: 0.9299\n",
            "Epoch 12/50\n",
            "375/375 [==============================] - 2s 4ms/step - loss: 0.2500 - accuracy: 0.9289 - val_loss: 0.2375 - val_accuracy: 0.9319\n",
            "Epoch 13/50\n",
            "375/375 [==============================] - 2s 4ms/step - loss: 0.2413 - accuracy: 0.9312 - val_loss: 0.2308 - val_accuracy: 0.9322\n",
            "Epoch 14/50\n",
            "375/375 [==============================] - 2s 4ms/step - loss: 0.2335 - accuracy: 0.9339 - val_loss: 0.2242 - val_accuracy: 0.9358\n",
            "Epoch 15/50\n",
            "375/375 [==============================] - 2s 4ms/step - loss: 0.2262 - accuracy: 0.9361 - val_loss: 0.2173 - val_accuracy: 0.9383\n",
            "Epoch 16/50\n",
            "375/375 [==============================] - 2s 4ms/step - loss: 0.2190 - accuracy: 0.9383 - val_loss: 0.2131 - val_accuracy: 0.9396\n",
            "Epoch 17/50\n",
            "375/375 [==============================] - 2s 4ms/step - loss: 0.2125 - accuracy: 0.9399 - val_loss: 0.2072 - val_accuracy: 0.9414\n",
            "Epoch 18/50\n",
            "375/375 [==============================] - 2s 4ms/step - loss: 0.2061 - accuracy: 0.9417 - val_loss: 0.2031 - val_accuracy: 0.9430\n",
            "Epoch 19/50\n",
            "375/375 [==============================] - 2s 4ms/step - loss: 0.2002 - accuracy: 0.9433 - val_loss: 0.1982 - val_accuracy: 0.9444\n",
            "Epoch 20/50\n",
            "375/375 [==============================] - 2s 4ms/step - loss: 0.1948 - accuracy: 0.9448 - val_loss: 0.1922 - val_accuracy: 0.9464\n",
            "Epoch 21/50\n",
            "375/375 [==============================] - 1s 4ms/step - loss: 0.1896 - accuracy: 0.9475 - val_loss: 0.1888 - val_accuracy: 0.9471\n",
            "Epoch 22/50\n",
            "375/375 [==============================] - 2s 4ms/step - loss: 0.1842 - accuracy: 0.9478 - val_loss: 0.1851 - val_accuracy: 0.9486\n",
            "Epoch 23/50\n",
            "375/375 [==============================] - 1s 4ms/step - loss: 0.1795 - accuracy: 0.9493 - val_loss: 0.1807 - val_accuracy: 0.9493\n",
            "Epoch 24/50\n",
            "375/375 [==============================] - 2s 4ms/step - loss: 0.1747 - accuracy: 0.9507 - val_loss: 0.1770 - val_accuracy: 0.9506\n",
            "Epoch 25/50\n",
            "375/375 [==============================] - 2s 4ms/step - loss: 0.1704 - accuracy: 0.9522 - val_loss: 0.1736 - val_accuracy: 0.9517\n",
            "Epoch 26/50\n",
            "375/375 [==============================] - 2s 4ms/step - loss: 0.1661 - accuracy: 0.9535 - val_loss: 0.1697 - val_accuracy: 0.9519\n",
            "Epoch 27/50\n",
            "375/375 [==============================] - 2s 4ms/step - loss: 0.1620 - accuracy: 0.9544 - val_loss: 0.1679 - val_accuracy: 0.9524\n",
            "Epoch 28/50\n",
            "375/375 [==============================] - 2s 4ms/step - loss: 0.1583 - accuracy: 0.9558 - val_loss: 0.1646 - val_accuracy: 0.9540\n",
            "Epoch 29/50\n",
            "375/375 [==============================] - 2s 4ms/step - loss: 0.1546 - accuracy: 0.9567 - val_loss: 0.1627 - val_accuracy: 0.9542\n",
            "Epoch 30/50\n",
            "375/375 [==============================] - 2s 4ms/step - loss: 0.1510 - accuracy: 0.9574 - val_loss: 0.1589 - val_accuracy: 0.9551\n",
            "Epoch 31/50\n",
            "375/375 [==============================] - 2s 4ms/step - loss: 0.1475 - accuracy: 0.9590 - val_loss: 0.1563 - val_accuracy: 0.9562\n",
            "Epoch 32/50\n",
            "375/375 [==============================] - 2s 4ms/step - loss: 0.1445 - accuracy: 0.9593 - val_loss: 0.1541 - val_accuracy: 0.9561\n",
            "Epoch 33/50\n",
            "375/375 [==============================] - 2s 4ms/step - loss: 0.1411 - accuracy: 0.9601 - val_loss: 0.1522 - val_accuracy: 0.9562\n",
            "Epoch 34/50\n",
            "375/375 [==============================] - 2s 4ms/step - loss: 0.1382 - accuracy: 0.9613 - val_loss: 0.1492 - val_accuracy: 0.9572\n",
            "Epoch 35/50\n",
            "375/375 [==============================] - 2s 4ms/step - loss: 0.1352 - accuracy: 0.9621 - val_loss: 0.1474 - val_accuracy: 0.9574\n",
            "Epoch 36/50\n",
            "375/375 [==============================] - 2s 4ms/step - loss: 0.1323 - accuracy: 0.9627 - val_loss: 0.1446 - val_accuracy: 0.9587\n",
            "Epoch 37/50\n",
            "375/375 [==============================] - 2s 4ms/step - loss: 0.1295 - accuracy: 0.9640 - val_loss: 0.1437 - val_accuracy: 0.9586\n",
            "Epoch 38/50\n",
            "375/375 [==============================] - 1s 4ms/step - loss: 0.1268 - accuracy: 0.9644 - val_loss: 0.1411 - val_accuracy: 0.9593\n",
            "Epoch 39/50\n",
            "375/375 [==============================] - 1s 4ms/step - loss: 0.1243 - accuracy: 0.9651 - val_loss: 0.1395 - val_accuracy: 0.9597\n",
            "Epoch 40/50\n",
            "375/375 [==============================] - 1s 4ms/step - loss: 0.1217 - accuracy: 0.9656 - val_loss: 0.1381 - val_accuracy: 0.9601\n",
            "Epoch 41/50\n",
            "375/375 [==============================] - 2s 4ms/step - loss: 0.1194 - accuracy: 0.9663 - val_loss: 0.1358 - val_accuracy: 0.9607\n",
            "Epoch 42/50\n",
            "375/375 [==============================] - 2s 4ms/step - loss: 0.1171 - accuracy: 0.9672 - val_loss: 0.1353 - val_accuracy: 0.9617\n",
            "Epoch 43/50\n",
            "375/375 [==============================] - 2s 4ms/step - loss: 0.1150 - accuracy: 0.9676 - val_loss: 0.1334 - val_accuracy: 0.9611\n",
            "Epoch 44/50\n",
            "375/375 [==============================] - 2s 4ms/step - loss: 0.1129 - accuracy: 0.9683 - val_loss: 0.1320 - val_accuracy: 0.9614\n",
            "Epoch 45/50\n",
            "375/375 [==============================] - 2s 4ms/step - loss: 0.1108 - accuracy: 0.9692 - val_loss: 0.1303 - val_accuracy: 0.9624\n",
            "Epoch 46/50\n",
            "375/375 [==============================] - 2s 4ms/step - loss: 0.1087 - accuracy: 0.9700 - val_loss: 0.1286 - val_accuracy: 0.9621\n",
            "Epoch 47/50\n",
            "375/375 [==============================] - 2s 4ms/step - loss: 0.1066 - accuracy: 0.9701 - val_loss: 0.1270 - val_accuracy: 0.9631\n",
            "Epoch 48/50\n",
            "375/375 [==============================] - 2s 4ms/step - loss: 0.1048 - accuracy: 0.9709 - val_loss: 0.1260 - val_accuracy: 0.9635\n",
            "Epoch 49/50\n",
            "375/375 [==============================] - 1s 4ms/step - loss: 0.1026 - accuracy: 0.9715 - val_loss: 0.1245 - val_accuracy: 0.9632\n",
            "Epoch 50/50\n",
            "375/375 [==============================] - 2s 4ms/step - loss: 0.1012 - accuracy: 0.9718 - val_loss: 0.1234 - val_accuracy: 0.9644\n"
          ]
        },
        {
          "output_type": "execute_result",
          "data": {
            "text/plain": [
              "<keras.callbacks.History at 0x7f4b8c4f6520>"
            ]
          },
          "metadata": {},
          "execution_count": 33
        }
      ]
    },
    {
      "cell_type": "code",
      "source": [
        "#evaluate the model\n",
        "test_loss, test_acc = model.evaluate(X_test, Y_test)\n",
        "print('Test accuracy:', test_acc)\n"
      ],
      "metadata": {
        "colab": {
          "base_uri": "https://localhost:8080/"
        },
        "id": "R-OnB-4zFZZY",
        "outputId": "eeae1961-3ff2-4604-8a13-4a51fe21d14f"
      },
      "execution_count": 34,
      "outputs": [
        {
          "output_type": "stream",
          "name": "stdout",
          "text": [
            "313/313 [==============================] - 1s 2ms/step - loss: 0.1167 - accuracy: 0.9668\n",
            "Test accuracy: 0.9667999744415283\n"
          ]
        }
      ]
    },
    {
      "cell_type": "code",
      "source": [
        "# making prediction\n",
        "predictions = model.predict(X_test)"
      ],
      "metadata": {
        "colab": {
          "base_uri": "https://localhost:8080/"
        },
        "id": "nuWmDVDIFmGM",
        "outputId": "da6c7451-8aeb-420f-fdde-ff2a54ef2248"
      },
      "execution_count": 35,
      "outputs": [
        {
          "output_type": "stream",
          "name": "stdout",
          "text": [
            "313/313 [==============================] - 1s 1ms/step\n"
          ]
        }
      ]
    }
  ]
}